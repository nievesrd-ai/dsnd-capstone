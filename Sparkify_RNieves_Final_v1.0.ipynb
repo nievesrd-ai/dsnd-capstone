{
 "cells": [
  {
   "cell_type": "markdown",
   "metadata": {},
   "source": [
    "# Sparkify Project\n",
    "This is a capstone project to Udacity's Data Scientist Nanodegree. The project is about utilizing Apache Spark to perform Data Science tasks on the ‘Sparkify’ dataset. The Sparkify dataset is a hypothetical user log coming from a music-listening service such as Spotify or Apple Music. The high level goal of the project is to create a prediction model capable of identifying users that are considering to drop their subscription to the music listening service. The music-listening service could utilize the results of the predictive model to send targeted offers in hopes to preserve the user subscription. "
   ]
  },
  {
   "cell_type": "code",
   "execution_count": 1,
   "metadata": {},
   "outputs": [],
   "source": [
    "import pyspark\n",
    "from pyspark import SparkConf, SparkContext\n",
    "from pyspark.sql import SparkSession, SQLContext\n",
    "from pyspark.sql.functions import udf\n",
    "\n",
    "from pyspark.sql.types import IntegerType, DateType, StringType, FloatType\n",
    "from pyspark.sql.functions import desc, asc, udf\n",
    "from pyspark.sql import functions as func\n",
    "from pyspark.sql.window import Window\n",
    "\n",
    "from pyspark.ml.feature import Normalizer, VectorAssembler, MinMaxScaler, StandardScaler, StringIndexer\n",
    "\n",
    "from pyspark.ml.clustering import KMeans, GaussianMixture\n",
    "from pyspark.ml.regression import LinearRegression\n",
    "from pyspark.ml.classification import LogisticRegression, RandomForestClassifier, DecisionTreeClassifier\n",
    "\n",
    "\n",
    "import datetime\n",
    "import numpy as np\n",
    "import pandas as pd\n",
    "\n",
    "%matplotlib inline\n",
    "import matplotlib.pyplot as plt\n"
   ]
  },
  {
   "cell_type": "code",
   "execution_count": 2,
   "metadata": {},
   "outputs": [],
   "source": [
    "from sklearn.metrics import classification_report, confusion_matrix"
   ]
  },
  {
   "cell_type": "code",
   "execution_count": 3,
   "metadata": {},
   "outputs": [],
   "source": [
    "# Helper function\n",
    "def get_unique(df, col_name):\n",
    "    \"\"\"Return unique values in a columnn of a df in list format\n",
    "\n",
    "    Args:\n",
    "        df (pyspark.DataFrame): Data frame from which to pull uniques\n",
    "        col_name (str): Name of the column to analyze\n",
    "\n",
    "    Returns:\n",
    "        list: Python list of unique values found\n",
    "    \"\"\"\n",
    "\n",
    "    wrapped_unique = df.select(col_name).drop_duplicates().collect()\n",
    "    uniques = [x.asDict()[col_name] for x in wrapped_unique]\n",
    "    return uniques\n",
    "\n",
    "\n",
    "def _get_date(timestamp):\n",
    "    \"\"\"\n",
    "    Args:\n",
    "        timestamp (str): Time stamp in posix/unix format\n",
    "        \n",
    "    Returns:\n",
    "        str: Time converted to a strong with year, mont, day, hour, minute ans second\n",
    "    \"\"\"\n",
    "    date_str = datetime.datetime.fromtimestamp(timestamp).strftime('%Y-%m-%d:%H%M%S')\n",
    "    return date_str"
   ]
  },
  {
   "cell_type": "markdown",
   "metadata": {},
   "source": [
    "# Loading, Exploring and Cleaning Data\n",
    "We start by printing certain descriptive attributes of the date. Then, records that are invalid, null or repeated are removed"
   ]
  },
  {
   "cell_type": "code",
   "execution_count": 4,
   "metadata": {},
   "outputs": [],
   "source": [
    "spark = SparkSession \\\n",
    "    .builder \\\n",
    "    .appName(\"Wrangling Data\") \\\n",
    "    .getOrCreate()"
   ]
  },
  {
   "cell_type": "code",
   "execution_count": 78,
   "metadata": {},
   "outputs": [
    {
     "data": {
      "text/plain": [
       "DataFrame[artist: string, auth: string, firstName: string, gender: string, itemInSession: bigint, lastName: string, length: double, level: string, location: string, method: string, page: string, registration: bigint, sessionId: bigint, song: string, status: bigint, ts: bigint, userAgent: string, userId: string]"
      ]
     },
     "execution_count": 78,
     "metadata": {},
     "output_type": "execute_result"
    }
   ],
   "source": [
    "path = \"mini_sparkify_event_data.json\"\n",
    "user_log = spark.read.json(path)\n",
    "user_log.persist()\n"
   ]
  },
  {
   "cell_type": "code",
   "execution_count": 79,
   "metadata": {},
   "outputs": [
    {
     "data": {
      "text/plain": [
       "Row(artist='Martha Tilston', auth='Logged In', firstName='Colin', gender='M', itemInSession=50, lastName='Freeman', length=277.89016, level='paid', location='Bakersfield, CA', method='PUT', page='NextSong', registration=1538173362000, sessionId=29, song='Rockpools', status=200, ts=1538352117000, userAgent='Mozilla/5.0 (Windows NT 6.1; WOW64; rv:31.0) Gecko/20100101 Firefox/31.0', userId='30')"
      ]
     },
     "execution_count": 79,
     "metadata": {},
     "output_type": "execute_result"
    }
   ],
   "source": [
    "user_log.head()"
   ]
  },
  {
   "cell_type": "code",
   "execution_count": 80,
   "metadata": {},
   "outputs": [
    {
     "data": {
      "text/plain": [
       "286500"
      ]
     },
     "execution_count": 80,
     "metadata": {},
     "output_type": "execute_result"
    }
   ],
   "source": [
    "user_log.count()"
   ]
  },
  {
   "cell_type": "code",
   "execution_count": 7,
   "metadata": {},
   "outputs": [],
   "source": []
  },
  {
   "cell_type": "code",
   "execution_count": 81,
   "metadata": {},
   "outputs": [
    {
     "name": "stdout",
     "output_type": "stream",
     "text": [
      "Number of records before dropping nulls and empty page 286500\n"
     ]
    }
   ],
   "source": [
    "number_of_records = user_log.count()\n",
    "print(\"Number of records before dropping nulls and empty page {}\".format(number_of_records))"
   ]
  },
  {
   "cell_type": "code",
   "execution_count": 82,
   "metadata": {},
   "outputs": [],
   "source": [
    "# Dropping rows without nans on userId or SessionId. A nan on sessionID means the user hasn't logged in, so we can't tie\n",
    "# the behavior and pages to any given user, which doesn't help for predicting churn\n",
    "user_log = user_log.dropna(how=\"any\", subset = [\"userId\", \"sessionId\"])\n",
    "\n",
    "# Dropping users with empty userId\n",
    "user_log = user_log.filter(user_log[\"userId\"] != \"\")\n",
    "\n",
    "# Converting userId to integer for efficiency and consistency\n",
    "user_log = user_log.withColumn(\"userId\", user_log.userId.cast(IntegerType()))"
   ]
  },
  {
   "cell_type": "code",
   "execution_count": 83,
   "metadata": {},
   "outputs": [
    {
     "name": "stdout",
     "output_type": "stream",
     "text": [
      "Number of records after dropping nulls and empty page 278154\n"
     ]
    }
   ],
   "source": [
    "number_of_records = user_log.count()\n",
    "print(\"Number of records after dropping nulls and empty page {}\".format(number_of_records))"
   ]
  },
  {
   "cell_type": "code",
   "execution_count": 84,
   "metadata": {},
   "outputs": [
    {
     "name": "stdout",
     "output_type": "stream",
     "text": [
      "DataFrame[artist: string, auth: string, firstName: string, gender: string, itemInSession: bigint, lastName: string, length: double, level: string, location: string, method: string, page: string, registration: bigint, sessionId: bigint, song: string, status: bigint, ts: bigint, userAgent: string, userId: int]\n"
     ]
    }
   ],
   "source": [
    "# Looking at the columns and data dypes of the dataframe\n",
    "print(user_log)"
   ]
  },
  {
   "cell_type": "code",
   "execution_count": 85,
   "metadata": {},
   "outputs": [],
   "source": [
    "# Dropping columns that may not help with the goals of the project\n",
    "columns_to_drop = [\n",
    "    'userAgent',\n",
    "    'method',\n",
    "    'registration',\n",
    "    'sessionId',\n",
    "    'gender',\n",
    "    'firstName',\n",
    "    'lastName',\n",
    "    'artist',\n",
    "    'location',\n",
    "    'status',\n",
    "     'soong']\n",
    "user_log = user_log.drop(*columns_to_drop)\n"
   ]
  },
  {
   "cell_type": "code",
   "execution_count": 86,
   "metadata": {},
   "outputs": [
    {
     "data": {
      "text/plain": [
       "Row(auth='Logged In', itemInSession=50, length=277.89016, level='paid', page='NextSong', song='Rockpools', ts=1538352117000, userId=30)"
      ]
     },
     "execution_count": 86,
     "metadata": {},
     "output_type": "execute_result"
    }
   ],
   "source": [
    "user_log.head()"
   ]
  },
  {
   "cell_type": "markdown",
   "metadata": {},
   "source": [
    "# Pre-processing and Data Wrangling\n",
    "\n",
    "Several steps will reformat the data to enable feature engineering. During these steps, additional data exploration on newly generated or\n",
    "re-formated data will also take place. This validates the techniques being utilized, and supports feature engineering."
   ]
  },
  {
   "cell_type": "code",
   "execution_count": 87,
   "metadata": {},
   "outputs": [],
   "source": [
    "# Finding churn events\n",
    "churn_flagger = udf(lambda x: 1 if (x == 'Submit Downgrade') | (x == 'Cancellation Confirmation') else 0, IntegerType())\n",
    "pay_free_flagger = udf(lambda x: 1 if x == 'paid' else 0, IntegerType())\n",
    "user_log = user_log.withColumn(\"churn\", churn_flagger(user_log.page)).\\\n",
    "            withColumn(\"pay_or_free\", pay_free_flagger(user_log.level))"
   ]
  },
  {
   "cell_type": "code",
   "execution_count": 88,
   "metadata": {},
   "outputs": [],
   "source": [
    "# Here we assign labels to user as churner or non churner. A churner is someone who downgrades or cancels\n",
    "binarize = udf(lambda x: 1 if x > 0 else 0, IntegerType())\n",
    "window_spec = Window.partitionBy(\"userId\")\n",
    "\n",
    "user_log = user_log.withColumn(\"churner\", func.sum(\"churn\").over(window_spec)).\\\n",
    "           withColumn(\"payer\", func.sum(\"pay_or_free\").over(window_spec))\n",
    "user_log = user_log.withColumn(\"payer\", binarize(user_log.payer)).\\\n",
    "           withColumn(\"churner\", binarize(user_log.churner))"
   ]
  },
  {
   "cell_type": "code",
   "execution_count": 89,
   "metadata": {},
   "outputs": [
    {
     "name": "stdout",
     "output_type": "stream",
     "text": [
      "Before removing users that never subbscribed: 278154\n",
      "After removing users that never subbscribed: 264680\n"
     ]
    }
   ],
   "source": [
    "# Removing users that never got a paid subscription\n",
    "print(\"Before removing users that never subbscribed: {}\".format(user_log.count()))\n",
    "user_log = user_log.filter((user_log.payer != 0))\n",
    "print(\"After removing users that never subbscribed: {}\".format(user_log.count()))"
   ]
  },
  {
   "cell_type": "code",
   "execution_count": 90,
   "metadata": {},
   "outputs": [
    {
     "name": "stdout",
     "output_type": "stream",
     "text": [
      "Distribution Event Types\n",
      "+-------------------------+------+\n",
      "|page                     |count |\n",
      "+-------------------------+------+\n",
      "|Cancel                   |36    |\n",
      "|Cancellation Confirmation|36    |\n",
      "|Submit Downgrade         |63    |\n",
      "|Submit Upgrade           |159   |\n",
      "|Error                    |233   |\n",
      "|Save Settings            |286   |\n",
      "|Upgrade                  |416   |\n",
      "|About                    |478   |\n",
      "|Help                     |1396  |\n",
      "|Settings                 |1417  |\n",
      "|Downgrade                |2055  |\n",
      "|Thumbs Down              |2386  |\n",
      "|Roll Advert              |2943  |\n",
      "|Logout                   |2994  |\n",
      "|Add Friend               |4065  |\n",
      "|Add to Playlist          |6259  |\n",
      "|Home                     |9441  |\n",
      "|Thumbs Up                |12012 |\n",
      "|NextSong                 |218005|\n",
      "+-------------------------+------+\n",
      "\n"
     ]
    }
   ],
   "source": [
    "# Showing distribution of page events\n",
    "page_visit_distribution = user_log.groupBy(\"page\").count()\n",
    "print(\"Distribution Event Types\")\n",
    "page_visit_distribution.sort(\"count\").show(page_visit_distribution.count(), False)"
   ]
  },
  {
   "cell_type": "code",
   "execution_count": 91,
   "metadata": {},
   "outputs": [],
   "source": [
    "# Converting page to numeric\n",
    "indexer = StringIndexer(inputCol=\"page\", outputCol=\"page_label\")\n",
    "user_log = indexer.fit(user_log).transform(user_log)"
   ]
  },
  {
   "cell_type": "code",
   "execution_count": 92,
   "metadata": {},
   "outputs": [],
   "source": [
    "# Getting a human readable date column so better data exploration could be performed\n",
    "get_date = udf(lambda x: _get_date(x / 1000.0))\n",
    "user_log = user_log.withColumn('date', get_date(user_log.ts))"
   ]
  },
  {
   "cell_type": "code",
   "execution_count": 93,
   "metadata": {
    "scrolled": true
   },
   "outputs": [
    {
     "data": {
      "text/plain": [
       "[Row(userId=100004, page='Home', level='free', ts=1538534835000, date='2018-10-03:024715'),\n",
       " Row(userId=100004, page='NextSong', level='free', ts=1538534867000, date='2018-10-03:024747'),\n",
       " Row(userId=100004, page='NextSong', level='free', ts=1538534975000, date='2018-10-03:024935'),\n",
       " Row(userId=100004, page='NextSong', level='free', ts=1538535013000, date='2018-10-03:025013'),\n",
       " Row(userId=100004, page='NextSong', level='free', ts=1538535232000, date='2018-10-03:025352'),\n",
       " Row(userId=100004, page='NextSong', level='free', ts=1538535414000, date='2018-10-03:025654'),\n",
       " Row(userId=100004, page='NextSong', level='free', ts=1538535792000, date='2018-10-03:030312'),\n",
       " Row(userId=100004, page='NextSong', level='free', ts=1538536045000, date='2018-10-03:030725'),\n",
       " Row(userId=100004, page='Roll Advert', level='free', ts=1538536211000, date='2018-10-03:031011'),\n",
       " Row(userId=100004, page='NextSong', level='free', ts=1538536381000, date='2018-10-03:031301'),\n",
       " Row(userId=100004, page='NextSong', level='free', ts=1538536609000, date='2018-10-03:031649'),\n",
       " Row(userId=100004, page='NextSong', level='free', ts=1538536828000, date='2018-10-03:032028'),\n",
       " Row(userId=100004, page='Settings', level='free', ts=1538536911000, date='2018-10-03:032151'),\n",
       " Row(userId=100004, page='Save Settings', level='free', ts=1538536912000, date='2018-10-03:032152'),\n",
       " Row(userId=100004, page='Home', level='free', ts=1538537021000, date='2018-10-03:032341'),\n",
       " Row(userId=100004, page='NextSong', level='free', ts=1538537047000, date='2018-10-03:032407'),\n",
       " Row(userId=100004, page='NextSong', level='free', ts=1538537310000, date='2018-10-03:032830'),\n",
       " Row(userId=100004, page='NextSong', level='free', ts=1538537514000, date='2018-10-03:033154'),\n",
       " Row(userId=100004, page='NextSong', level='free', ts=1538537796000, date='2018-10-03:033636'),\n",
       " Row(userId=100004, page='NextSong', level='free', ts=1538538246000, date='2018-10-03:034406'),\n",
       " Row(userId=100004, page='NextSong', level='free', ts=1538538559000, date='2018-10-03:034919'),\n",
       " Row(userId=100004, page='NextSong', level='free', ts=1538538750000, date='2018-10-03:035230'),\n",
       " Row(userId=100004, page='NextSong', level='free', ts=1538538967000, date='2018-10-03:035607'),\n",
       " Row(userId=100004, page='Home', level='free', ts=1538539309000, date='2018-10-03:040149'),\n",
       " Row(userId=100004, page='NextSong', level='free', ts=1538751727000, date='2018-10-05:150207'),\n",
       " Row(userId=100004, page='Thumbs Up', level='free', ts=1538751728000, date='2018-10-05:150208'),\n",
       " Row(userId=100004, page='NextSong', level='free', ts=1539149098000, date='2018-10-10:052458'),\n",
       " Row(userId=100004, page='NextSong', level='free', ts=1539149382000, date='2018-10-10:052942'),\n",
       " Row(userId=100004, page='NextSong', level='free', ts=1539149592000, date='2018-10-10:053312'),\n",
       " Row(userId=100004, page='NextSong', level='free', ts=1539149787000, date='2018-10-10:053627'),\n",
       " Row(userId=100004, page='Add Friend', level='free', ts=1539149788000, date='2018-10-10:053628'),\n",
       " Row(userId=100004, page='NextSong', level='free', ts=1539149979000, date='2018-10-10:053939'),\n",
       " Row(userId=100004, page='NextSong', level='free', ts=1539150203000, date='2018-10-10:054323'),\n",
       " Row(userId=100004, page='NextSong', level='free', ts=1539150433000, date='2018-10-10:054713'),\n",
       " Row(userId=100004, page='NextSong', level='free', ts=1539387360000, date='2018-10-12:233600'),\n",
       " Row(userId=100004, page='Thumbs Up', level='free', ts=1539387361000, date='2018-10-12:233601'),\n",
       " Row(userId=100004, page='NextSong', level='free', ts=1539387605000, date='2018-10-12:234005'),\n",
       " Row(userId=100004, page='NextSong', level='free', ts=1539387898000, date='2018-10-12:234458'),\n",
       " Row(userId=100004, page='NextSong', level='free', ts=1539388117000, date='2018-10-12:234837'),\n",
       " Row(userId=100004, page='Add Friend', level='free', ts=1539388118000, date='2018-10-12:234838'),\n",
       " Row(userId=100004, page='Add Friend', level='free', ts=1539388119000, date='2018-10-12:234839'),\n",
       " Row(userId=100004, page='Add Friend', level='free', ts=1539388120000, date='2018-10-12:234840'),\n",
       " Row(userId=100004, page='NextSong', level='free', ts=1539388419000, date='2018-10-12:235339'),\n",
       " Row(userId=100004, page='NextSong', level='free', ts=1539388649000, date='2018-10-12:235729'),\n",
       " Row(userId=100004, page='NextSong', level='free', ts=1539388956000, date='2018-10-13:000236'),\n",
       " Row(userId=100004, page='NextSong', level='free', ts=1539389368000, date='2018-10-13:000928'),\n",
       " Row(userId=100004, page='NextSong', level='free', ts=1539389532000, date='2018-10-13:001212'),\n",
       " Row(userId=100004, page='NextSong', level='free', ts=1539389910000, date='2018-10-13:001830'),\n",
       " Row(userId=100004, page='NextSong', level='free', ts=1539390290000, date='2018-10-13:002450'),\n",
       " Row(userId=100004, page='Thumbs Up', level='free', ts=1539390291000, date='2018-10-13:002451'),\n",
       " Row(userId=100004, page='NextSong', level='free', ts=1539390526000, date='2018-10-13:002846'),\n",
       " Row(userId=100004, page='NextSong', level='free', ts=1539390764000, date='2018-10-13:003244'),\n",
       " Row(userId=100004, page='Home', level='free', ts=1539390782000, date='2018-10-13:003302'),\n",
       " Row(userId=100004, page='NextSong', level='free', ts=1539391000000, date='2018-10-13:003640'),\n",
       " Row(userId=100004, page='Roll Advert', level='free', ts=1539391069000, date='2018-10-13:003749'),\n",
       " Row(userId=100004, page='NextSong', level='free', ts=1539391184000, date='2018-10-13:003944'),\n",
       " Row(userId=100004, page='NextSong', level='free', ts=1539391430000, date='2018-10-13:004350'),\n",
       " Row(userId=100004, page='NextSong', level='free', ts=1539391626000, date='2018-10-13:004706'),\n",
       " Row(userId=100004, page='Settings', level='free', ts=1539391774000, date='2018-10-13:004934'),\n",
       " Row(userId=100004, page='NextSong', level='free', ts=1539391849000, date='2018-10-13:005049'),\n",
       " Row(userId=100004, page='NextSong', level='free', ts=1539392260000, date='2018-10-13:005740'),\n",
       " Row(userId=100004, page='Roll Advert', level='free', ts=1539392260000, date='2018-10-13:005740'),\n",
       " Row(userId=100004, page='NextSong', level='free', ts=1539392452000, date='2018-10-13:010052'),\n",
       " Row(userId=100004, page='NextSong', level='free', ts=1539392683000, date='2018-10-13:010443'),\n",
       " Row(userId=100004, page='Roll Advert', level='free', ts=1539392791000, date='2018-10-13:010631'),\n",
       " Row(userId=100004, page='NextSong', level='free', ts=1539392866000, date='2018-10-13:010746'),\n",
       " Row(userId=100004, page='Roll Advert', level='free', ts=1539393092000, date='2018-10-13:011132'),\n",
       " Row(userId=100004, page='NextSong', level='free', ts=1539393133000, date='2018-10-13:011213'),\n",
       " Row(userId=100004, page='NextSong', level='free', ts=1539393626000, date='2018-10-13:012026'),\n",
       " Row(userId=100004, page='Thumbs Up', level='free', ts=1539393627000, date='2018-10-13:012027'),\n",
       " Row(userId=100004, page='NextSong', level='free', ts=1539393903000, date='2018-10-13:012503'),\n",
       " Row(userId=100004, page='Roll Advert', level='free', ts=1539394018000, date='2018-10-13:012658'),\n",
       " Row(userId=100004, page='NextSong', level='free', ts=1539394113000, date='2018-10-13:012833'),\n",
       " Row(userId=100004, page='NextSong', level='free', ts=1539394375000, date='2018-10-13:013255'),\n",
       " Row(userId=100004, page='Roll Advert', level='free', ts=1539394400000, date='2018-10-13:013320'),\n",
       " Row(userId=100004, page='NextSong', level='free', ts=1539394591000, date='2018-10-13:013631'),\n",
       " Row(userId=100004, page='Help', level='free', ts=1539394617000, date='2018-10-13:013657'),\n",
       " Row(userId=100004, page='Home', level='free', ts=1539394809000, date='2018-10-13:014009'),\n",
       " Row(userId=100004, page='Add Friend', level='free', ts=1539394810000, date='2018-10-13:014010'),\n",
       " Row(userId=100004, page='NextSong', level='free', ts=1539394948000, date='2018-10-13:014228'),\n",
       " Row(userId=100004, page='NextSong', level='free', ts=1539395107000, date='2018-10-13:014507'),\n",
       " Row(userId=100004, page='Roll Advert', level='free', ts=1539395193000, date='2018-10-13:014633'),\n",
       " Row(userId=100004, page='NextSong', level='free', ts=1539395297000, date='2018-10-13:014817'),\n",
       " Row(userId=100004, page='NextSong', level='free', ts=1539395483000, date='2018-10-13:015123'),\n",
       " Row(userId=100004, page='NextSong', level='free', ts=1539395696000, date='2018-10-13:015456'),\n",
       " Row(userId=100004, page='NextSong', level='free', ts=1539395925000, date='2018-10-13:015845'),\n",
       " Row(userId=100004, page='NextSong', level='free', ts=1539396312000, date='2018-10-13:020512'),\n",
       " Row(userId=100004, page='NextSong', level='free', ts=1539396505000, date='2018-10-13:020825'),\n",
       " Row(userId=100004, page='NextSong', level='free', ts=1539396716000, date='2018-10-13:021156'),\n",
       " Row(userId=100004, page='NextSong', level='free', ts=1539396916000, date='2018-10-13:021516'),\n",
       " Row(userId=100004, page='Thumbs Up', level='free', ts=1539396917000, date='2018-10-13:021517'),\n",
       " Row(userId=100004, page='NextSong', level='free', ts=1539432317000, date='2018-10-13:120517'),\n",
       " Row(userId=100004, page='NextSong', level='free', ts=1539432539000, date='2018-10-13:120859'),\n",
       " Row(userId=100004, page='NextSong', level='free', ts=1539432787000, date='2018-10-13:121307'),\n",
       " Row(userId=100004, page='NextSong', level='free', ts=1539433009000, date='2018-10-13:121649'),\n",
       " Row(userId=100004, page='NextSong', level='free', ts=1539433201000, date='2018-10-13:122001'),\n",
       " Row(userId=100004, page='NextSong', level='free', ts=1539433385000, date='2018-10-13:122305'),\n",
       " Row(userId=100004, page='NextSong', level='free', ts=1539433579000, date='2018-10-13:122619'),\n",
       " Row(userId=100004, page='NextSong', level='free', ts=1539433801000, date='2018-10-13:123001'),\n",
       " Row(userId=100004, page='Roll Advert', level='free', ts=1539433878000, date='2018-10-13:123118'),\n",
       " Row(userId=100004, page='NextSong', level='free', ts=1539433932000, date='2018-10-13:123212'),\n",
       " Row(userId=100004, page='NextSong', level='free', ts=1539434170000, date='2018-10-13:123610'),\n",
       " Row(userId=100004, page='Roll Advert', level='free', ts=1539434227000, date='2018-10-13:123707'),\n",
       " Row(userId=100004, page='NextSong', level='free', ts=1539434312000, date='2018-10-13:123832'),\n",
       " Row(userId=100004, page='NextSong', level='free', ts=1539434581000, date='2018-10-13:124301'),\n",
       " Row(userId=100004, page='NextSong', level='free', ts=1539434893000, date='2018-10-13:124813'),\n",
       " Row(userId=100004, page='NextSong', level='free', ts=1539435079000, date='2018-10-13:125119'),\n",
       " Row(userId=100004, page='NextSong', level='free', ts=1539435274000, date='2018-10-13:125434'),\n",
       " Row(userId=100004, page='Roll Advert', level='free', ts=1539435367000, date='2018-10-13:125607'),\n",
       " Row(userId=100004, page='NextSong', level='free', ts=1539435929000, date='2018-10-13:130529'),\n",
       " Row(userId=100004, page='Roll Advert', level='free', ts=1539435959000, date='2018-10-13:130559'),\n",
       " Row(userId=100004, page='NextSong', level='free', ts=1539436275000, date='2018-10-13:131115'),\n",
       " Row(userId=100004, page='NextSong', level='free', ts=1539436498000, date='2018-10-13:131458'),\n",
       " Row(userId=100004, page='NextSong', level='free', ts=1539436724000, date='2018-10-13:131844'),\n",
       " Row(userId=100004, page='NextSong', level='free', ts=1539436942000, date='2018-10-13:132222'),\n",
       " Row(userId=100004, page='NextSong', level='free', ts=1539437372000, date='2018-10-13:132932'),\n",
       " Row(userId=100004, page='NextSong', level='free', ts=1539437616000, date='2018-10-13:133336'),\n",
       " Row(userId=100004, page='NextSong', level='free', ts=1539437869000, date='2018-10-13:133749'),\n",
       " Row(userId=100004, page='Thumbs Up', level='free', ts=1539437870000, date='2018-10-13:133750'),\n",
       " Row(userId=100004, page='NextSong', level='free', ts=1539438211000, date='2018-10-13:134331'),\n",
       " Row(userId=100004, page='Logout', level='free', ts=1539438212000, date='2018-10-13:134332'),\n",
       " Row(userId=100004, page='Home', level='free', ts=1539567569000, date='2018-10-15:013929'),\n",
       " Row(userId=100004, page='NextSong', level='free', ts=1539567605000, date='2018-10-15:014005'),\n",
       " Row(userId=100004, page='NextSong', level='free', ts=1539567909000, date='2018-10-15:014509'),\n",
       " Row(userId=100004, page='NextSong', level='free', ts=1539568268000, date='2018-10-15:015108'),\n",
       " Row(userId=100004, page='NextSong', level='free', ts=1539568551000, date='2018-10-15:015551'),\n",
       " Row(userId=100004, page='NextSong', level='free', ts=1539568855000, date='2018-10-15:020055'),\n",
       " Row(userId=100004, page='NextSong', level='free', ts=1539569109000, date='2018-10-15:020509'),\n",
       " Row(userId=100004, page='NextSong', level='free', ts=1539569306000, date='2018-10-15:020826'),\n",
       " Row(userId=100004, page='Roll Advert', level='free', ts=1539569338000, date='2018-10-15:020858'),\n",
       " Row(userId=100004, page='NextSong', level='free', ts=1539569497000, date='2018-10-15:021137'),\n",
       " Row(userId=100004, page='NextSong', level='free', ts=1539569704000, date='2018-10-15:021504'),\n",
       " Row(userId=100004, page='NextSong', level='free', ts=1539569859000, date='2018-10-15:021739'),\n",
       " Row(userId=100004, page='NextSong', level='free', ts=1539570079000, date='2018-10-15:022119'),\n",
       " Row(userId=100004, page='Roll Advert', level='free', ts=1539570297000, date='2018-10-15:022457'),\n",
       " Row(userId=100004, page='NextSong', level='free', ts=1539570515000, date='2018-10-15:022835'),\n",
       " Row(userId=100004, page='NextSong', level='free', ts=1539570772000, date='2018-10-15:023252'),\n",
       " Row(userId=100004, page='NextSong', level='free', ts=1539571167000, date='2018-10-15:023927'),\n",
       " Row(userId=100004, page='Add to Playlist', level='free', ts=1539571178000, date='2018-10-15:023938'),\n",
       " Row(userId=100004, page='NextSong', level='free', ts=1539571469000, date='2018-10-15:024429'),\n",
       " Row(userId=100004, page='NextSong', level='free', ts=1539571668000, date='2018-10-15:024748'),\n",
       " Row(userId=100004, page='NextSong', level='free', ts=1539571860000, date='2018-10-15:025100'),\n",
       " Row(userId=100004, page='Roll Advert', level='free', ts=1539571906000, date='2018-10-15:025146'),\n",
       " Row(userId=100004, page='NextSong', level='free', ts=1539572075000, date='2018-10-15:025435'),\n",
       " Row(userId=100004, page='NextSong', level='free', ts=1539572307000, date='2018-10-15:025827'),\n",
       " Row(userId=100004, page='NextSong', level='free', ts=1539572618000, date='2018-10-15:030338'),\n",
       " Row(userId=100004, page='NextSong', level='free', ts=1539572722000, date='2018-10-15:030522'),\n",
       " Row(userId=100004, page='NextSong', level='free', ts=1539572954000, date='2018-10-15:030914'),\n",
       " Row(userId=100004, page='NextSong', level='free', ts=1539573160000, date='2018-10-15:031240'),\n",
       " Row(userId=100004, page='NextSong', level='free', ts=1539573449000, date='2018-10-15:031729'),\n",
       " Row(userId=100004, page='Add Friend', level='free', ts=1539573450000, date='2018-10-15:031730'),\n",
       " Row(userId=100004, page='Add Friend', level='free', ts=1539573451000, date='2018-10-15:031731'),\n",
       " Row(userId=100004, page='NextSong', level='free', ts=1539573620000, date='2018-10-15:032020'),\n",
       " Row(userId=100004, page='Roll Advert', level='free', ts=1539573650000, date='2018-10-15:032050'),\n",
       " Row(userId=100004, page='NextSong', level='free', ts=1539573918000, date='2018-10-15:032518'),\n",
       " Row(userId=100004, page='NextSong', level='free', ts=1539574092000, date='2018-10-15:032812'),\n",
       " Row(userId=100004, page='NextSong', level='free', ts=1539574318000, date='2018-10-15:033158'),\n",
       " Row(userId=100004, page='Roll Advert', level='free', ts=1539574357000, date='2018-10-15:033237'),\n",
       " Row(userId=100004, page='NextSong', level='free', ts=1539574449000, date='2018-10-15:033409'),\n",
       " Row(userId=100004, page='NextSong', level='free', ts=1539574672000, date='2018-10-15:033752'),\n",
       " Row(userId=100004, page='Roll Advert', level='free', ts=1539574678000, date='2018-10-15:033758'),\n",
       " Row(userId=100004, page='NextSong', level='free', ts=1539574773000, date='2018-10-15:033933'),\n",
       " Row(userId=100004, page='NextSong', level='free', ts=1539575028000, date='2018-10-15:034348'),\n",
       " Row(userId=100004, page='NextSong', level='free', ts=1539575277000, date='2018-10-15:034757'),\n",
       " Row(userId=100004, page='NextSong', level='free', ts=1539575498000, date='2018-10-15:035138'),\n",
       " Row(userId=100004, page='NextSong', level='free', ts=1539575704000, date='2018-10-15:035504'),\n",
       " Row(userId=100004, page='NextSong', level='free', ts=1539575998000, date='2018-10-15:035958'),\n",
       " Row(userId=100004, page='Roll Advert', level='free', ts=1539576041000, date='2018-10-15:040041'),\n",
       " Row(userId=100004, page='NextSong', level='free', ts=1539576225000, date='2018-10-15:040345'),\n",
       " Row(userId=100004, page='NextSong', level='free', ts=1539576421000, date='2018-10-15:040701'),\n",
       " Row(userId=100004, page='NextSong', level='free', ts=1539576711000, date='2018-10-15:041151'),\n",
       " Row(userId=100004, page='Roll Advert', level='free', ts=1539576954000, date='2018-10-15:041554'),\n",
       " Row(userId=100004, page='NextSong', level='free', ts=1539577002000, date='2018-10-15:041642'),\n",
       " Row(userId=100004, page='Roll Advert', level='free', ts=1539577106000, date='2018-10-15:041826'),\n",
       " Row(userId=100004, page='NextSong', level='free', ts=1539577220000, date='2018-10-15:042020'),\n",
       " Row(userId=100004, page='Upgrade', level='free', ts=1539577248000, date='2018-10-15:042048'),\n",
       " Row(userId=100004, page='Submit Upgrade', level='free', ts=1539577249000, date='2018-10-15:042049'),\n",
       " Row(userId=100004, page='Home', level='paid', ts=1539577257000, date='2018-10-15:042057'),\n",
       " Row(userId=100004, page='NextSong', level='paid', ts=1539577425000, date='2018-10-15:042345'),\n",
       " Row(userId=100004, page='NextSong', level='paid', ts=1539577747000, date='2018-10-15:042907'),\n",
       " Row(userId=100004, page='Add Friend', level='paid', ts=1539577748000, date='2018-10-15:042908'),\n",
       " Row(userId=100004, page='NextSong', level='paid', ts=1539577918000, date='2018-10-15:043158'),\n",
       " Row(userId=100004, page='Thumbs Up', level='paid', ts=1539577919000, date='2018-10-15:043159'),\n",
       " Row(userId=100004, page='NextSong', level='paid', ts=1539578128000, date='2018-10-15:043528'),\n",
       " Row(userId=100004, page='NextSong', level='paid', ts=1539578350000, date='2018-10-15:043910'),\n",
       " Row(userId=100004, page='NextSong', level='paid', ts=1539578596000, date='2018-10-15:044316'),\n",
       " Row(userId=100004, page='NextSong', level='paid', ts=1539578794000, date='2018-10-15:044634'),\n",
       " Row(userId=100004, page='NextSong', level='paid', ts=1539579064000, date='2018-10-15:045104'),\n",
       " Row(userId=100004, page='NextSong', level='paid', ts=1539579305000, date='2018-10-15:045505'),\n",
       " Row(userId=100004, page='Home', level='paid', ts=1539579506000, date='2018-10-15:045826'),\n",
       " Row(userId=100004, page='NextSong', level='paid', ts=1539579665000, date='2018-10-15:050105'),\n",
       " Row(userId=100004, page='NextSong', level='paid', ts=1539579960000, date='2018-10-15:050600'),\n",
       " Row(userId=100004, page='NextSong', level='paid', ts=1539580141000, date='2018-10-15:050901'),\n",
       " Row(userId=100004, page='NextSong', level='paid', ts=1539580474000, date='2018-10-15:051434'),\n",
       " Row(userId=100004, page='NextSong', level='paid', ts=1539580687000, date='2018-10-15:051807'),\n",
       " Row(userId=100004, page='NextSong', level='paid', ts=1539580888000, date='2018-10-15:052128'),\n",
       " Row(userId=100004, page='NextSong', level='paid', ts=1539581178000, date='2018-10-15:052618'),\n",
       " Row(userId=100004, page='NextSong', level='paid', ts=1539581391000, date='2018-10-15:052951'),\n",
       " Row(userId=100004, page='Home', level='paid', ts=1539581445000, date='2018-10-15:053045'),\n",
       " Row(userId=100004, page='NextSong', level='paid', ts=1539581630000, date='2018-10-15:053350'),\n",
       " Row(userId=100004, page='NextSong', level='paid', ts=1539581845000, date='2018-10-15:053725'),\n",
       " Row(userId=100004, page='NextSong', level='paid', ts=1539582141000, date='2018-10-15:054221'),\n",
       " Row(userId=100004, page='NextSong', level='paid', ts=1539582349000, date='2018-10-15:054549'),\n",
       " Row(userId=100004, page='NextSong', level='paid', ts=1539582616000, date='2018-10-15:055016'),\n",
       " Row(userId=100004, page='NextSong', level='paid', ts=1539582747000, date='2018-10-15:055227'),\n",
       " Row(userId=100004, page='NextSong', level='paid', ts=1539583016000, date='2018-10-15:055656'),\n",
       " Row(userId=100004, page='NextSong', level='paid', ts=1539583379000, date='2018-10-15:060259'),\n",
       " Row(userId=100004, page='NextSong', level='paid', ts=1539583578000, date='2018-10-15:060618'),\n",
       " Row(userId=100004, page='Thumbs Up', level='paid', ts=1539583579000, date='2018-10-15:060619'),\n",
       " Row(userId=100004, page='Add to Playlist', level='paid', ts=1539583591000, date='2018-10-15:060631'),\n",
       " Row(userId=100004, page='NextSong', level='paid', ts=1539583801000, date='2018-10-15:061001'),\n",
       " Row(userId=100004, page='NextSong', level='paid', ts=1539584108000, date='2018-10-15:061508'),\n",
       " Row(userId=100004, page='NextSong', level='paid', ts=1539584237000, date='2018-10-15:061717'),\n",
       " Row(userId=100004, page='NextSong', level='paid', ts=1539584489000, date='2018-10-15:062129'),\n",
       " Row(userId=100004, page='NextSong', level='paid', ts=1539584680000, date='2018-10-15:062440'),\n",
       " Row(userId=100004, page='NextSong', level='paid', ts=1539584846000, date='2018-10-15:062726'),\n",
       " Row(userId=100004, page='Thumbs Up', level='paid', ts=1539584847000, date='2018-10-15:062727'),\n",
       " Row(userId=100004, page='NextSong', level='paid', ts=1539601734000, date='2018-10-15:110854'),\n",
       " Row(userId=100004, page='NextSong', level='paid', ts=1539601993000, date='2018-10-15:111313'),\n",
       " Row(userId=100004, page='NextSong', level='paid', ts=1539602204000, date='2018-10-15:111644'),\n",
       " Row(userId=100004, page='Downgrade', level='paid', ts=1539602315000, date='2018-10-15:111835'),\n",
       " Row(userId=100004, page='Home', level='paid', ts=1539602325000, date='2018-10-15:111845'),\n",
       " Row(userId=100004, page='NextSong', level='paid', ts=1539602330000, date='2018-10-15:111850'),\n",
       " Row(userId=100004, page='NextSong', level='paid', ts=1539602630000, date='2018-10-15:112350'),\n",
       " Row(userId=100004, page='NextSong', level='paid', ts=1539602926000, date='2018-10-15:112846'),\n",
       " Row(userId=100004, page='NextSong', level='paid', ts=1539603233000, date='2018-10-15:113353'),\n",
       " Row(userId=100004, page='Logout', level='paid', ts=1539603234000, date='2018-10-15:113354'),\n",
       " Row(userId=100004, page='Home', level='paid', ts=1539864761000, date='2018-10-18:121241'),\n",
       " Row(userId=100004, page='Logout', level='paid', ts=1539864762000, date='2018-10-18:121242'),\n",
       " Row(userId=100004, page='Home', level='paid', ts=1539865500000, date='2018-10-18:122500'),\n",
       " Row(userId=100004, page='NextSong', level='paid', ts=1539865514000, date='2018-10-18:122514'),\n",
       " Row(userId=100004, page='NextSong', level='paid', ts=1539865734000, date='2018-10-18:122854'),\n",
       " Row(userId=100004, page='NextSong', level='paid', ts=1539865828000, date='2018-10-18:123028'),\n",
       " Row(userId=100004, page='NextSong', level='paid', ts=1539866055000, date='2018-10-18:123415'),\n",
       " Row(userId=100004, page='Add to Playlist', level='paid', ts=1539866147000, date='2018-10-18:123547'),\n",
       " Row(userId=100004, page='NextSong', level='paid', ts=1539866258000, date='2018-10-18:123738'),\n",
       " Row(userId=100004, page='NextSong', level='paid', ts=1539867138000, date='2018-10-18:125218'),\n",
       " Row(userId=100004, page='NextSong', level='paid', ts=1539867357000, date='2018-10-18:125557'),\n",
       " Row(userId=100004, page='Roll Advert', level='paid', ts=1539867504000, date='2018-10-18:125824'),\n",
       " Row(userId=100004, page='NextSong', level='paid', ts=1539867579000, date='2018-10-18:125939'),\n",
       " Row(userId=100004, page='NextSong', level='paid', ts=1539867798000, date='2018-10-18:130318'),\n",
       " Row(userId=100004, page='Add to Playlist', level='paid', ts=1539867949000, date='2018-10-18:130549'),\n",
       " Row(userId=100004, page='NextSong', level='paid', ts=1539868035000, date='2018-10-18:130715'),\n",
       " Row(userId=100004, page='Thumbs Up', level='paid', ts=1539868036000, date='2018-10-18:130716'),\n",
       " Row(userId=100004, page='NextSong', level='paid', ts=1539868272000, date='2018-10-18:131112'),\n",
       " Row(userId=100004, page='Downgrade', level='paid', ts=1539868319000, date='2018-10-18:131159'),\n",
       " Row(userId=100004, page='NextSong', level='paid', ts=1539868500000, date='2018-10-18:131500'),\n",
       " Row(userId=100004, page='Home', level='paid', ts=1539868554000, date='2018-10-18:131554'),\n",
       " Row(userId=100004, page='Downgrade', level='paid', ts=1539868731000, date='2018-10-18:131851'),\n",
       " Row(userId=100004, page='Submit Downgrade', level='paid', ts=1539868732000, date='2018-10-18:131852'),\n",
       " Row(userId=100004, page='Home', level='free', ts=1539868776000, date='2018-10-18:131936'),\n",
       " Row(userId=100004, page='NextSong', level='free', ts=1539868799000, date='2018-10-18:131959'),\n",
       " Row(userId=100004, page='NextSong', level='free', ts=1539868989000, date='2018-10-18:132309'),\n",
       " Row(userId=100004, page='Roll Advert', level='free', ts=1539869028000, date='2018-10-18:132348'),\n",
       " Row(userId=100004, page='Roll Advert', level='free', ts=1539869060000, date='2018-10-18:132420'),\n",
       " Row(userId=100004, page='NextSong', level='free', ts=1539869245000, date='2018-10-18:132725'),\n",
       " Row(userId=100004, page='Roll Advert', level='free', ts=1539869473000, date='2018-10-18:133113'),\n",
       " Row(userId=100004, page='NextSong', level='free', ts=1539869493000, date='2018-10-18:133133'),\n",
       " Row(userId=100004, page='NextSong', level='free', ts=1539869781000, date='2018-10-18:133621'),\n",
       " Row(userId=100004, page='Upgrade', level='free', ts=1539869948000, date='2018-10-18:133908'),\n",
       " Row(userId=100004, page='NextSong', level='free', ts=1539869991000, date='2018-10-18:133951'),\n",
       " Row(userId=100004, page='NextSong', level='free', ts=1539870206000, date='2018-10-18:134326'),\n",
       " Row(userId=100004, page='NextSong', level='free', ts=1539870609000, date='2018-10-18:135009'),\n",
       " Row(userId=100004, page='Logout', level='free', ts=1539870610000, date='2018-10-18:135010'),\n",
       " Row(userId=100004, page='Home', level='free', ts=1539870699000, date='2018-10-18:135139'),\n",
       " Row(userId=100004, page='NextSong', level='free', ts=1539870841000, date='2018-10-18:135401'),\n",
       " Row(userId=100004, page='Roll Advert', level='free', ts=1539870978000, date='2018-10-18:135618'),\n",
       " Row(userId=100004, page='NextSong', level='free', ts=1539871001000, date='2018-10-18:135641'),\n",
       " Row(userId=100004, page='NextSong', level='free', ts=1539871163000, date='2018-10-18:135923'),\n",
       " Row(userId=100004, page='Roll Advert', level='free', ts=1539871183000, date='2018-10-18:135943'),\n",
       " Row(userId=100004, page='NextSong', level='free', ts=1539871419000, date='2018-10-18:140339'),\n",
       " Row(userId=100004, page='Roll Advert', level='free', ts=1539871596000, date='2018-10-18:140636'),\n",
       " Row(userId=100004, page='NextSong', level='free', ts=1539871623000, date='2018-10-18:140703'),\n",
       " Row(userId=100004, page='Home', level='free', ts=1539871681000, date='2018-10-18:140801'),\n",
       " Row(userId=100004, page='NextSong', level='free', ts=1539872028000, date='2018-10-18:141348'),\n",
       " Row(userId=100004, page='NextSong', level='free', ts=1539872305000, date='2018-10-18:141825'),\n",
       " Row(userId=100004, page='NextSong', level='free', ts=1539872525000, date='2018-10-18:142205'),\n",
       " Row(userId=100004, page='NextSong', level='free', ts=1539872752000, date='2018-10-18:142552'),\n",
       " Row(userId=100004, page='Roll Advert', level='free', ts=1539872752000, date='2018-10-18:142552'),\n",
       " Row(userId=100004, page='NextSong', level='free', ts=1539872971000, date='2018-10-18:142931'),\n",
       " Row(userId=100004, page='NextSong', level='free', ts=1539873210000, date='2018-10-18:143330'),\n",
       " Row(userId=100004, page='NextSong', level='free', ts=1539873373000, date='2018-10-18:143613'),\n",
       " Row(userId=100004, page='NextSong', level='free', ts=1539873641000, date='2018-10-18:144041'),\n",
       " Row(userId=100004, page='NextSong', level='free', ts=1539873953000, date='2018-10-18:144553'),\n",
       " Row(userId=100004, page='NextSong', level='free', ts=1539874283000, date='2018-10-18:145123'),\n",
       " Row(userId=100004, page='Roll Advert', level='free', ts=1539874326000, date='2018-10-18:145206'),\n",
       " Row(userId=100004, page='NextSong', level='free', ts=1539874443000, date='2018-10-18:145403'),\n",
       " Row(userId=100004, page='Add Friend', level='free', ts=1539874444000, date='2018-10-18:145404'),\n",
       " Row(userId=100004, page='NextSong', level='free', ts=1539874562000, date='2018-10-18:145602'),\n",
       " Row(userId=100004, page='Roll Advert', level='free', ts=1539874704000, date='2018-10-18:145824'),\n",
       " Row(userId=100004, page='NextSong', level='free', ts=1539874852000, date='2018-10-18:150052'),\n",
       " Row(userId=100004, page='NextSong', level='free', ts=1539875184000, date='2018-10-18:150624'),\n",
       " Row(userId=100004, page='NextSong', level='free', ts=1539875415000, date='2018-10-18:151015'),\n",
       " Row(userId=100004, page='NextSong', level='free', ts=1539875547000, date='2018-10-18:151227'),\n",
       " Row(userId=100004, page='NextSong', level='free', ts=1539875775000, date='2018-10-18:151615'),\n",
       " Row(userId=100004, page='Roll Advert', level='free', ts=1539875854000, date='2018-10-18:151734'),\n",
       " Row(userId=100004, page='NextSong', level='free', ts=1539876054000, date='2018-10-18:152054'),\n",
       " Row(userId=100004, page='NextSong', level='free', ts=1539876236000, date='2018-10-18:152356'),\n",
       " Row(userId=100004, page='NextSong', level='free', ts=1539876645000, date='2018-10-18:153045'),\n",
       " Row(userId=100004, page='NextSong', level='free', ts=1539876913000, date='2018-10-18:153513'),\n",
       " Row(userId=100004, page='NextSong', level='free', ts=1539877196000, date='2018-10-18:153956'),\n",
       " Row(userId=100004, page='NextSong', level='free', ts=1539877401000, date='2018-10-18:154321'),\n",
       " Row(userId=100004, page='NextSong', level='free', ts=1539877630000, date='2018-10-18:154710'),\n",
       " Row(userId=100004, page='Roll Advert', level='free', ts=1539877658000, date='2018-10-18:154738'),\n",
       " Row(userId=100004, page='NextSong', level='free', ts=1539877812000, date='2018-10-18:155012'),\n",
       " Row(userId=100004, page='NextSong', level='free', ts=1539878007000, date='2018-10-18:155327'),\n",
       " Row(userId=100004, page='NextSong', level='free', ts=1539878256000, date='2018-10-18:155736'),\n",
       " Row(userId=100004, page='NextSong', level='free', ts=1539878493000, date='2018-10-18:160133'),\n",
       " Row(userId=100004, page='Roll Advert', level='free', ts=1539878603000, date='2018-10-18:160323'),\n",
       " Row(userId=100004, page='NextSong', level='free', ts=1539878717000, date='2018-10-18:160517'),\n",
       " Row(userId=100004, page='Roll Advert', level='free', ts=1539878899000, date='2018-10-18:160819'),\n",
       " Row(userId=100004, page='NextSong', level='free', ts=1539878915000, date='2018-10-18:160835'),\n",
       " Row(userId=100004, page='NextSong', level='free', ts=1539879126000, date='2018-10-18:161206'),\n",
       " Row(userId=100004, page='NextSong', level='free', ts=1539879403000, date='2018-10-18:161643'),\n",
       " Row(userId=100004, page='NextSong', level='free', ts=1539879690000, date='2018-10-18:162130'),\n",
       " Row(userId=100004, page='Home', level='free', ts=1539879852000, date='2018-10-18:162412'),\n",
       " Row(userId=100004, page='Upgrade', level='free', ts=1539880188000, date='2018-10-18:162948'),\n",
       " Row(userId=100004, page='Submit Upgrade', level='free', ts=1539880189000, date='2018-10-18:162949'),\n",
       " Row(userId=100004, page='Home', level='paid', ts=1539880294000, date='2018-10-18:163134'),\n",
       " Row(userId=100004, page='NextSong', level='paid', ts=1539880448000, date='2018-10-18:163408'),\n",
       " Row(userId=100004, page='NextSong', level='paid', ts=1539880641000, date='2018-10-18:163721'),\n",
       " Row(userId=100004, page='NextSong', level='paid', ts=1539880821000, date='2018-10-18:164021'),\n",
       " Row(userId=100004, page='NextSong', level='paid', ts=1539881074000, date='2018-10-18:164434'),\n",
       " Row(userId=100004, page='NextSong', level='paid', ts=1539881285000, date='2018-10-18:164805'),\n",
       " Row(userId=100004, page='NextSong', level='paid', ts=1539881319000, date='2018-10-18:164839'),\n",
       " Row(userId=100004, page='NextSong', level='paid', ts=1539881499000, date='2018-10-18:165139'),\n",
       " Row(userId=100004, page='NextSong', level='paid', ts=1539881664000, date='2018-10-18:165424'),\n",
       " Row(userId=100004, page='NextSong', level='paid', ts=1539881959000, date='2018-10-18:165919'),\n",
       " Row(userId=100004, page='Add Friend', level='paid', ts=1539881960000, date='2018-10-18:165920'),\n",
       " Row(userId=100004, page='NextSong', level='paid', ts=1539882128000, date='2018-10-18:170208'),\n",
       " Row(userId=100004, page='NextSong', level='paid', ts=1539882553000, date='2018-10-18:170913'),\n",
       " Row(userId=100004, page='NextSong', level='paid', ts=1539882747000, date='2018-10-18:171227'),\n",
       " Row(userId=100004, page='NextSong', level='paid', ts=1539882977000, date='2018-10-18:171617'),\n",
       " Row(userId=100004, page='NextSong', level='paid', ts=1539883362000, date='2018-10-18:172242'),\n",
       " Row(userId=100004, page='NextSong', level='paid', ts=1539883569000, date='2018-10-18:172609'),\n",
       " Row(userId=100004, page='NextSong', level='paid', ts=1539883850000, date='2018-10-18:173050'),\n",
       " Row(userId=100004, page='NextSong', level='paid', ts=1539884080000, date='2018-10-18:173440'),\n",
       " Row(userId=100004, page='NextSong', level='paid', ts=1539884218000, date='2018-10-18:173658'),\n",
       " Row(userId=100004, page='Add to Playlist', level='paid', ts=1539884386000, date='2018-10-18:173946'),\n",
       " Row(userId=100004, page='NextSong', level='paid', ts=1539884456000, date='2018-10-18:174056'),\n",
       " Row(userId=100004, page='NextSong', level='paid', ts=1539884848000, date='2018-10-18:174728'),\n",
       " Row(userId=100004, page='NextSong', level='paid', ts=1539885025000, date='2018-10-18:175025'),\n",
       " Row(userId=100004, page='NextSong', level='paid', ts=1539885270000, date='2018-10-18:175430'),\n",
       " Row(userId=100004, page='NextSong', level='paid', ts=1539885432000, date='2018-10-18:175712'),\n",
       " Row(userId=100004, page='NextSong', level='paid', ts=1539885660000, date='2018-10-18:180100'),\n",
       " Row(userId=100004, page='NextSong', level='paid', ts=1539885856000, date='2018-10-18:180416'),\n",
       " Row(userId=100004, page='NextSong', level='paid', ts=1539886077000, date='2018-10-18:180757'),\n",
       " Row(userId=100004, page='NextSong', level='paid', ts=1539886278000, date='2018-10-18:181118'),\n",
       " Row(userId=100004, page='NextSong', level='paid', ts=1539886402000, date='2018-10-18:181322'),\n",
       " Row(userId=100004, page='NextSong', level='paid', ts=1539886680000, date='2018-10-18:181800'),\n",
       " Row(userId=100004, page='NextSong', level='paid', ts=1539887013000, date='2018-10-18:182333'),\n",
       " Row(userId=100004, page='NextSong', level='paid', ts=1539887232000, date='2018-10-18:182712'),\n",
       " Row(userId=100004, page='NextSong', level='paid', ts=1539887480000, date='2018-10-18:183120'),\n",
       " Row(userId=100004, page='NextSong', level='paid', ts=1539887679000, date='2018-10-18:183439'),\n",
       " Row(userId=100004, page='NextSong', level='paid', ts=1539887982000, date='2018-10-18:183942'),\n",
       " Row(userId=100004, page='Downgrade', level='paid', ts=1539888035000, date='2018-10-18:184035'),\n",
       " Row(userId=100004, page='Help', level='paid', ts=1539888035000, date='2018-10-18:184035'),\n",
       " Row(userId=100004, page='Home', level='paid', ts=1539888081000, date='2018-10-18:184121'),\n",
       " Row(userId=100004, page='NextSong', level='paid', ts=1539888297000, date='2018-10-18:184457'),\n",
       " Row(userId=100004, page='NextSong', level='paid', ts=1539888495000, date='2018-10-18:184815'),\n",
       " Row(userId=100004, page='NextSong', level='paid', ts=1539888706000, date='2018-10-18:185146'),\n",
       " Row(userId=100004, page='NextSong', level='paid', ts=1539888899000, date='2018-10-18:185459'),\n",
       " Row(userId=100004, page='NextSong', level='paid', ts=1539889065000, date='2018-10-18:185745'),\n",
       " Row(userId=100004, page='NextSong', level='paid', ts=1539889369000, date='2018-10-18:190249'),\n",
       " Row(userId=100004, page='NextSong', level='paid', ts=1539889517000, date='2018-10-18:190517'),\n",
       " Row(userId=100004, page='NextSong', level='paid', ts=1539889754000, date='2018-10-18:190914'),\n",
       " Row(userId=100004, page='NextSong', level='paid', ts=1539889959000, date='2018-10-18:191239'),\n",
       " Row(userId=100004, page='Thumbs Up', level='paid', ts=1539889960000, date='2018-10-18:191240'),\n",
       " Row(userId=100004, page='NextSong', level='paid', ts=1539890188000, date='2018-10-18:191628'),\n",
       " Row(userId=100004, page='Thumbs Up', level='paid', ts=1539890189000, date='2018-10-18:191629'),\n",
       " Row(userId=100004, page='NextSong', level='paid', ts=1539890369000, date='2018-10-18:191929'),\n",
       " Row(userId=100004, page='NextSong', level='paid', ts=1539890552000, date='2018-10-18:192232'),\n",
       " Row(userId=100004, page='NextSong', level='paid', ts=1539890840000, date='2018-10-18:192720'),\n",
       " Row(userId=100004, page='NextSong', level='paid', ts=1539891055000, date='2018-10-18:193055'),\n",
       " Row(userId=100004, page='NextSong', level='paid', ts=1539891255000, date='2018-10-18:193415'),\n",
       " Row(userId=100004, page='NextSong', level='paid', ts=1539891445000, date='2018-10-18:193725'),\n",
       " Row(userId=100004, page='NextSong', level='paid', ts=1539891716000, date='2018-10-18:194156'),\n",
       " Row(userId=100004, page='Add to Playlist', level='paid', ts=1539891886000, date='2018-10-18:194446'),\n",
       " Row(userId=100004, page='NextSong', level='paid', ts=1539892152000, date='2018-10-18:194912'),\n",
       " Row(userId=100004, page='NextSong', level='paid', ts=1539892367000, date='2018-10-18:195247'),\n",
       " Row(userId=100004, page='NextSong', level='paid', ts=1539892673000, date='2018-10-18:195753'),\n",
       " Row(userId=100004, page='NextSong', level='paid', ts=1539892893000, date='2018-10-18:200133'),\n",
       " Row(userId=100004, page='NextSong', level='paid', ts=1539893177000, date='2018-10-18:200617'),\n",
       " Row(userId=100004, page='Logout', level='paid', ts=1539893178000, date='2018-10-18:200618'),\n",
       " Row(userId=100004, page='Home', level='paid', ts=1539893334000, date='2018-10-18:200854'),\n",
       " Row(userId=100004, page='NextSong', level='paid', ts=1539893385000, date='2018-10-18:200945'),\n",
       " Row(userId=100004, page='NextSong', level='paid', ts=1539893594000, date='2018-10-18:201314'),\n",
       " Row(userId=100004, page='NextSong', level='paid', ts=1539893757000, date='2018-10-18:201557'),\n",
       " Row(userId=100004, page='NextSong', level='paid', ts=1539893943000, date='2018-10-18:201903'),\n",
       " Row(userId=100004, page='NextSong', level='paid', ts=1539894283000, date='2018-10-18:202443'),\n",
       " Row(userId=100004, page='NextSong', level='paid', ts=1539894539000, date='2018-10-18:202859'),\n",
       " Row(userId=100004, page='Roll Advert', level='paid', ts=1539894719000, date='2018-10-18:203159'),\n",
       " Row(userId=100004, page='NextSong', level='paid', ts=1539894816000, date='2018-10-18:203336'),\n",
       " Row(userId=100004, page='NextSong', level='paid', ts=1539895078000, date='2018-10-18:203758'),\n",
       " Row(userId=100004, page='NextSong', level='paid', ts=1539895291000, date='2018-10-18:204131'),\n",
       " Row(userId=100004, page='NextSong', level='paid', ts=1539895550000, date='2018-10-18:204550'),\n",
       " Row(userId=100004, page='NextSong', level='paid', ts=1539895788000, date='2018-10-18:204948'),\n",
       " Row(userId=100004, page='NextSong', level='paid', ts=1539896030000, date='2018-10-18:205350'),\n",
       " Row(userId=100004, page='NextSong', level='paid', ts=1539896398000, date='2018-10-18:205958'),\n",
       " Row(userId=100004, page='Logout', level='paid', ts=1539896399000, date='2018-10-18:205959'),\n",
       " Row(userId=100004, page='Home', level='paid', ts=1540315019000, date='2018-10-23:171659'),\n",
       " Row(userId=100004, page='NextSong', level='paid', ts=1540315160000, date='2018-10-23:171920'),\n",
       " Row(userId=100004, page='NextSong', level='paid', ts=1540315388000, date='2018-10-23:172308'),\n",
       " Row(userId=100004, page='NextSong', level='paid', ts=1540315717000, date='2018-10-23:172837'),\n",
       " Row(userId=100004, page='NextSong', level='paid', ts=1540315995000, date='2018-10-23:173315'),\n",
       " Row(userId=100004, page='Thumbs Down', level='paid', ts=1540315996000, date='2018-10-23:173316'),\n",
       " Row(userId=100004, page='NextSong', level='paid', ts=1540316223000, date='2018-10-23:173703'),\n",
       " Row(userId=100004, page='NextSong', level='paid', ts=1540316511000, date='2018-10-23:174151'),\n",
       " Row(userId=100004, page='NextSong', level='paid', ts=1540316747000, date='2018-10-23:174547'),\n",
       " Row(userId=100004, page='Home', level='paid', ts=1540463992000, date='2018-10-25:103952'),\n",
       " Row(userId=100004, page='NextSong', level='paid', ts=1540463998000, date='2018-10-25:103958'),\n",
       " Row(userId=100004, page='NextSong', level='paid', ts=1540464318000, date='2018-10-25:104518'),\n",
       " Row(userId=100004, page='NextSong', level='paid', ts=1540464482000, date='2018-10-25:104802'),\n",
       " Row(userId=100004, page='Roll Advert', level='paid', ts=1540464562000, date='2018-10-25:104922'),\n",
       " Row(userId=100004, page='NextSong', level='paid', ts=1540464673000, date='2018-10-25:105113'),\n",
       " Row(userId=100004, page='NextSong', level='paid', ts=1540464880000, date='2018-10-25:105440'),\n",
       " Row(userId=100004, page='NextSong', level='paid', ts=1540465107000, date='2018-10-25:105827'),\n",
       " Row(userId=100004, page='Add to Playlist', level='paid', ts=1540465253000, date='2018-10-25:110053'),\n",
       " Row(userId=100004, page='NextSong', level='paid', ts=1540465312000, date='2018-10-25:110152'),\n",
       " Row(userId=100004, page='NextSong', level='paid', ts=1540465617000, date='2018-10-25:110657'),\n",
       " Row(userId=100004, page='NextSong', level='paid', ts=1540466012000, date='2018-10-25:111332'),\n",
       " Row(userId=100004, page='NextSong', level='paid', ts=1540466186000, date='2018-10-25:111626'),\n",
       " Row(userId=100004, page='NextSong', level='paid', ts=1540466415000, date='2018-10-25:112015'),\n",
       " Row(userId=100004, page='NextSong', level='paid', ts=1540466560000, date='2018-10-25:112240'),\n",
       " Row(userId=100004, page='NextSong', level='paid', ts=1540466726000, date='2018-10-25:112526'),\n",
       " Row(userId=100004, page='NextSong', level='paid', ts=1540466980000, date='2018-10-25:112940'),\n",
       " Row(userId=100004, page='Add to Playlist', level='paid', ts=1540467227000, date='2018-10-25:113347'),\n",
       " Row(userId=100004, page='NextSong', level='paid', ts=1540467348000, date='2018-10-25:113548'),\n",
       " Row(userId=100004, page='Logout', level='paid', ts=1540467349000, date='2018-10-25:113549'),\n",
       " Row(userId=100004, page='Home', level='paid', ts=1540467677000, date='2018-10-25:114117'),\n",
       " Row(userId=100004, page='NextSong', level='paid', ts=1540513436000, date='2018-10-26:002356'),\n",
       " Row(userId=100004, page='NextSong', level='paid', ts=1540513708000, date='2018-10-26:002828'),\n",
       " Row(userId=100004, page='NextSong', level='paid', ts=1540514019000, date='2018-10-26:003339'),\n",
       " Row(userId=100004, page='Settings', level='paid', ts=1540514082000, date='2018-10-26:003442'),\n",
       " Row(userId=100004, page='Home', level='paid', ts=1540514238000, date='2018-10-26:003718'),\n",
       " Row(userId=100004, page='NextSong', level='paid', ts=1540961646000, date='2018-10-31:045406'),\n",
       " Row(userId=100004, page='NextSong', level='paid', ts=1540961856000, date='2018-10-31:045736'),\n",
       " Row(userId=100004, page='NextSong', level='paid', ts=1540962095000, date='2018-10-31:050135'),\n",
       " Row(userId=100004, page='NextSong', level='paid', ts=1540962443000, date='2018-10-31:050723'),\n",
       " Row(userId=100004, page='NextSong', level='paid', ts=1540962864000, date='2018-10-31:051424'),\n",
       " Row(userId=100004, page='NextSong', level='paid', ts=1540962906000, date='2018-10-31:051506'),\n",
       " Row(userId=100004, page='NextSong', level='paid', ts=1540963245000, date='2018-10-31:052045'),\n",
       " Row(userId=100004, page='Downgrade', level='paid', ts=1540963325000, date='2018-10-31:052205'),\n",
       " Row(userId=100004, page='NextSong', level='paid', ts=1540963486000, date='2018-10-31:052446'),\n",
       " Row(userId=100004, page='NextSong', level='paid', ts=1540963671000, date='2018-10-31:052751'),\n",
       " Row(userId=100004, page='NextSong', level='paid', ts=1540963866000, date='2018-10-31:053106'),\n",
       " Row(userId=100004, page='NextSong', level='paid', ts=1540964180000, date='2018-10-31:053620'),\n",
       " Row(userId=100004, page='NextSong', level='paid', ts=1540964463000, date='2018-10-31:054103'),\n",
       " Row(userId=100004, page='NextSong', level='paid', ts=1540964712000, date='2018-10-31:054512'),\n",
       " Row(userId=100004, page='NextSong', level='paid', ts=1540964918000, date='2018-10-31:054838'),\n",
       " Row(userId=100004, page='NextSong', level='paid', ts=1540965573000, date='2018-10-31:055933'),\n",
       " Row(userId=100004, page='NextSong', level='paid', ts=1540965826000, date='2018-10-31:060346'),\n",
       " Row(userId=100004, page='NextSong', level='paid', ts=1540966228000, date='2018-10-31:061028'),\n",
       " Row(userId=100004, page='NextSong', level='paid', ts=1540966685000, date='2018-10-31:061805'),\n",
       " Row(userId=100004, page='Downgrade', level='paid', ts=1540966725000, date='2018-10-31:061845'),\n",
       " Row(userId=100004, page='NextSong', level='paid', ts=1540966823000, date='2018-10-31:062023'),\n",
       " Row(userId=100004, page='Downgrade', level='paid', ts=1540966874000, date='2018-10-31:062114'),\n",
       " Row(userId=100004, page='NextSong', level='paid', ts=1540967068000, date='2018-10-31:062428'),\n",
       " Row(userId=100004, page='Add to Playlist', level='paid', ts=1540967267000, date='2018-10-31:062747'),\n",
       " Row(userId=100004, page='NextSong', level='paid', ts=1540967347000, date='2018-10-31:062907'),\n",
       " Row(userId=100004, page='NextSong', level='paid', ts=1540967509000, date='2018-10-31:063149'),\n",
       " Row(userId=100004, page='Add to Playlist', level='paid', ts=1540967603000, date='2018-10-31:063323'),\n",
       " Row(userId=100004, page='NextSong', level='paid', ts=1540967743000, date='2018-10-31:063543'),\n",
       " Row(userId=100004, page='NextSong', level='paid', ts=1540968021000, date='2018-10-31:064021'),\n",
       " Row(userId=100004, page='NextSong', level='paid', ts=1540968230000, date='2018-10-31:064350'),\n",
       " Row(userId=100004, page='NextSong', level='paid', ts=1540968448000, date='2018-10-31:064728'),\n",
       " Row(userId=100004, page='NextSong', level='paid', ts=1540968708000, date='2018-10-31:065148'),\n",
       " Row(userId=100004, page='NextSong', level='paid', ts=1540968951000, date='2018-10-31:065551'),\n",
       " Row(userId=100004, page='NextSong', level='paid', ts=1540969211000, date='2018-10-31:070011'),\n",
       " Row(userId=100004, page='NextSong', level='paid', ts=1540969568000, date='2018-10-31:070608'),\n",
       " Row(userId=100004, page='NextSong', level='paid', ts=1540969854000, date='2018-10-31:071054'),\n",
       " Row(userId=100004, page='NextSong', level='paid', ts=1540970100000, date='2018-10-31:071500'),\n",
       " Row(userId=100004, page='NextSong', level='paid', ts=1540970258000, date='2018-10-31:071738'),\n",
       " Row(userId=100004, page='NextSong', level='paid', ts=1540970644000, date='2018-10-31:072404'),\n",
       " Row(userId=100004, page='NextSong', level='paid', ts=1540970874000, date='2018-10-31:072754'),\n",
       " Row(userId=100004, page='NextSong', level='paid', ts=1540971072000, date='2018-10-31:073112'),\n",
       " Row(userId=100004, page='NextSong', level='paid', ts=1540971331000, date='2018-10-31:073531'),\n",
       " Row(userId=100004, page='Thumbs Up', level='paid', ts=1540971332000, date='2018-10-31:073532'),\n",
       " Row(userId=100004, page='NextSong', level='paid', ts=1540971601000, date='2018-10-31:074001'),\n",
       " Row(userId=100004, page='NextSong', level='paid', ts=1540971768000, date='2018-10-31:074248'),\n",
       " Row(userId=100004, page='NextSong', level='paid', ts=1540971912000, date='2018-10-31:074512'),\n",
       " Row(userId=100004, page='NextSong', level='paid', ts=1540972123000, date='2018-10-31:074843'),\n",
       " Row(userId=100004, page='NextSong', level='paid', ts=1540972328000, date='2018-10-31:075208'),\n",
       " Row(userId=100004, page='NextSong', level='paid', ts=1540972601000, date='2018-10-31:075641'),\n",
       " Row(userId=100004, page='NextSong', level='paid', ts=1540972824000, date='2018-10-31:080024'),\n",
       " Row(userId=100004, page='NextSong', level='paid', ts=1540972974000, date='2018-10-31:080254'),\n",
       " Row(userId=100004, page='NextSong', level='paid', ts=1540973279000, date='2018-10-31:080759'),\n",
       " Row(userId=100004, page='NextSong', level='paid', ts=1540973531000, date='2018-10-31:081211'),\n",
       " Row(userId=100004, page='NextSong', level='paid', ts=1540973841000, date='2018-10-31:081721'),\n",
       " Row(userId=100004, page='NextSong', level='paid', ts=1540974067000, date='2018-10-31:082107'),\n",
       " Row(userId=100004, page='Help', level='paid', ts=1540974115000, date='2018-10-31:082155'),\n",
       " Row(userId=100004, page='NextSong', level='paid', ts=1540974431000, date='2018-10-31:082711'),\n",
       " Row(userId=100004, page='NextSong', level='paid', ts=1540974651000, date='2018-10-31:083051'),\n",
       " Row(userId=100004, page='Roll Advert', level='paid', ts=1540974677000, date='2018-10-31:083117'),\n",
       " Row(userId=100004, page='NextSong', level='paid', ts=1540974842000, date='2018-10-31:083402'),\n",
       " Row(userId=100004, page='Logout', level='paid', ts=1540974843000, date='2018-10-31:083403'),\n",
       " Row(userId=100004, page='Home', level='paid', ts=1540974990000, date='2018-10-31:083630'),\n",
       " Row(userId=100004, page='Settings', level='paid', ts=1540975129000, date='2018-10-31:083849'),\n",
       " Row(userId=100004, page='Downgrade', level='paid', ts=1540975221000, date='2018-10-31:084021'),\n",
       " Row(userId=100004, page='Submit Downgrade', level='paid', ts=1540975222000, date='2018-10-31:084022'),\n",
       " Row(userId=100004, page='Home', level='free', ts=1540975345000, date='2018-10-31:084225'),\n",
       " Row(userId=100004, page='NextSong', level='free', ts=1540975381000, date='2018-10-31:084301'),\n",
       " Row(userId=100004, page='Roll Advert', level='free', ts=1540975763000, date='2018-10-31:084923'),\n",
       " Row(userId=100004, page='NextSong', level='free', ts=1540975766000, date='2018-10-31:084926'),\n",
       " Row(userId=100004, page='Help', level='free', ts=1540975855000, date='2018-10-31:085055'),\n",
       " Row(userId=100004, page='Home', level='free', ts=1540975864000, date='2018-10-31:085104'),\n",
       " Row(userId=100004, page='NextSong', level='free', ts=1540976019000, date='2018-10-31:085339'),\n",
       " Row(userId=100004, page='NextSong', level='free', ts=1540976339000, date='2018-10-31:085859'),\n",
       " Row(userId=100004, page='NextSong', level='free', ts=1540976664000, date='2018-10-31:090424'),\n",
       " Row(userId=100004, page='Thumbs Down', level='free', ts=1540976665000, date='2018-10-31:090425'),\n",
       " Row(userId=100004, page='NextSong', level='free', ts=1540977014000, date='2018-10-31:091014'),\n",
       " Row(userId=100004, page='Error', level='free', ts=1540977062000, date='2018-10-31:091102'),\n",
       " Row(userId=100004, page='NextSong', level='free', ts=1540977356000, date='2018-10-31:091556'),\n",
       " Row(userId=100004, page='NextSong', level='free', ts=1540977622000, date='2018-10-31:092022'),\n",
       " Row(userId=100004, page='Add to Playlist', level='free', ts=1540978044000, date='2018-10-31:092724'),\n",
       " Row(userId=100004, page='NextSong', level='free', ts=1540978055000, date='2018-10-31:092735'),\n",
       " Row(userId=100004, page='NextSong', level='free', ts=1540978291000, date='2018-10-31:093131'),\n",
       " Row(userId=100004, page='NextSong', level='free', ts=1540978639000, date='2018-10-31:093719'),\n",
       " Row(userId=100004, page='NextSong', level='free', ts=1540978837000, date='2018-10-31:094037'),\n",
       " Row(userId=100004, page='NextSong', level='free', ts=1540979147000, date='2018-10-31:094547'),\n",
       " Row(userId=100004, page='NextSong', level='free', ts=1540979367000, date='2018-10-31:094927'),\n",
       " Row(userId=100004, page='NextSong', level='free', ts=1540979509000, date='2018-10-31:095149'),\n",
       " Row(userId=100004, page='NextSong', level='free', ts=1540979778000, date='2018-10-31:095618'),\n",
       " Row(userId=100004, page='NextSong', level='free', ts=1540979877000, date='2018-10-31:095757'),\n",
       " Row(userId=100004, page='NextSong', level='free', ts=1540980141000, date='2018-10-31:100221'),\n",
       " Row(userId=100004, page='Settings', level='free', ts=1540980251000, date='2018-10-31:100411'),\n",
       " Row(userId=100004, page='NextSong', level='free', ts=1540980290000, date='2018-10-31:100450'),\n",
       " Row(userId=100004, page='NextSong', level='free', ts=1540980564000, date='2018-10-31:100924'),\n",
       " Row(userId=100004, page='Roll Advert', level='free', ts=1540980569000, date='2018-10-31:100929'),\n",
       " Row(userId=100004, page='NextSong', level='free', ts=1540980759000, date='2018-10-31:101239'),\n",
       " Row(userId=100004, page='NextSong', level='free', ts=1540981024000, date='2018-10-31:101704'),\n",
       " Row(userId=100004, page='NextSong', level='free', ts=1540981457000, date='2018-10-31:102417'),\n",
       " Row(userId=100004, page='NextSong', level='free', ts=1540981703000, date='2018-10-31:102823'),\n",
       " Row(userId=100004, page='Thumbs Down', level='free', ts=1540981704000, date='2018-10-31:102824'),\n",
       " Row(userId=100004, page='NextSong', level='free', ts=1540981963000, date='2018-10-31:103243'),\n",
       " Row(userId=100004, page='Roll Advert', level='free', ts=1540982105000, date='2018-10-31:103505'),\n",
       " Row(userId=100004, page='NextSong', level='free', ts=1540982159000, date='2018-10-31:103559'),\n",
       " Row(userId=100004, page='NextSong', level='free', ts=1540982365000, date='2018-10-31:103925'),\n",
       " Row(userId=100004, page='NextSong', level='free', ts=1540982602000, date='2018-10-31:104322'),\n",
       " Row(userId=100004, page='Roll Advert', level='free', ts=1540982669000, date='2018-10-31:104429'),\n",
       " Row(userId=100004, page='NextSong', level='free', ts=1540982822000, date='2018-10-31:104702'),\n",
       " Row(userId=100004, page='NextSong', level='free', ts=1540983007000, date='2018-10-31:105007'),\n",
       " Row(userId=100004, page='NextSong', level='free', ts=1540983190000, date='2018-10-31:105310'),\n",
       " Row(userId=100004, page='NextSong', level='free', ts=1540983464000, date='2018-10-31:105744'),\n",
       " Row(userId=100004, page='NextSong', level='free', ts=1540983736000, date='2018-10-31:110216'),\n",
       " Row(userId=100004, page='NextSong', level='free', ts=1540984089000, date='2018-10-31:110809'),\n",
       " Row(userId=100004, page='Home', level='free', ts=1540984126000, date='2018-10-31:110846'),\n",
       " Row(userId=100004, page='NextSong', level='free', ts=1540984350000, date='2018-10-31:111230'),\n",
       " Row(userId=100004, page='NextSong', level='free', ts=1540984583000, date='2018-10-31:111623'),\n",
       " Row(userId=100004, page='NextSong', level='free', ts=1540984797000, date='2018-10-31:111957'),\n",
       " Row(userId=100004, page='Thumbs Up', level='free', ts=1540984798000, date='2018-10-31:111958'),\n",
       " Row(userId=100004, page='NextSong', level='free', ts=1540985096000, date='2018-10-31:112456'),\n",
       " Row(userId=100004, page='NextSong', level='free', ts=1540985253000, date='2018-10-31:112733'),\n",
       " Row(userId=100004, page='Home', level='free', ts=1540985335000, date='2018-10-31:112855'),\n",
       " Row(userId=100004, page='NextSong', level='free', ts=1540985470000, date='2018-10-31:113110'),\n",
       " Row(userId=100004, page='NextSong', level='free', ts=1540985568000, date='2018-10-31:113248'),\n",
       " Row(userId=100004, page='Logout', level='free', ts=1540985569000, date='2018-10-31:113249'),\n",
       " Row(userId=100004, page='Home', level='free', ts=1541411402000, date='2018-11-05:095002'),\n",
       " Row(userId=100004, page='NextSong', level='free', ts=1541411625000, date='2018-11-05:095345'),\n",
       " Row(userId=100004, page='NextSong', level='free', ts=1541411775000, date='2018-11-05:095615'),\n",
       " Row(userId=100004, page='NextSong', level='free', ts=1541412290000, date='2018-11-05:100450'),\n",
       " Row(userId=100004, page='Thumbs Up', level='free', ts=1541412291000, date='2018-11-05:100451'),\n",
       " Row(userId=100004, page='NextSong', level='free', ts=1541412585000, date='2018-11-05:100945'),\n",
       " Row(userId=100004, page='NextSong', level='free', ts=1541412638000, date='2018-11-05:101038'),\n",
       " Row(userId=100004, page='NextSong', level='free', ts=1541412902000, date='2018-11-05:101502'),\n",
       " Row(userId=100004, page='NextSong', level='free', ts=1541413096000, date='2018-11-05:101816'),\n",
       " Row(userId=100004, page='NextSong', level='free', ts=1541413563000, date='2018-11-05:102603'),\n",
       " Row(userId=100004, page='NextSong', level='free', ts=1541413862000, date='2018-11-05:103102'),\n",
       " Row(userId=100004, page='NextSong', level='free', ts=1541414105000, date='2018-11-05:103505'),\n",
       " Row(userId=100004, page='NextSong', level='free', ts=1541414384000, date='2018-11-05:103944'),\n",
       " Row(userId=100004, page='NextSong', level='free', ts=1541414593000, date='2018-11-05:104313'),\n",
       " Row(userId=100004, page='Home', level='free', ts=1541414608000, date='2018-11-05:104328'),\n",
       " Row(userId=100004, page='Logout', level='free', ts=1541414609000, date='2018-11-05:104329'),\n",
       " Row(userId=100004, page='Home', level='free', ts=1541414922000, date='2018-11-05:104842'),\n",
       " Row(userId=100004, page='NextSong', level='free', ts=1541414927000, date='2018-11-05:104847'),\n",
       " Row(userId=100004, page='NextSong', level='free', ts=1541415266000, date='2018-11-05:105426'),\n",
       " Row(userId=100004, page='NextSong', level='free', ts=1541416751000, date='2018-11-05:111911'),\n",
       " Row(userId=100004, page='NextSong', level='free', ts=1541417100000, date='2018-11-05:112500'),\n",
       " Row(userId=100004, page='NextSong', level='free', ts=1541417305000, date='2018-11-05:112825'),\n",
       " Row(userId=100004, page='Roll Advert', level='free', ts=1541417319000, date='2018-11-05:112839'),\n",
       " Row(userId=100004, page='NextSong', level='free', ts=1541417585000, date='2018-11-05:113305'),\n",
       " Row(userId=100004, page='NextSong', level='free', ts=1541417980000, date='2018-11-05:113940'),\n",
       " Row(userId=100004, page='Logout', level='free', ts=1541417981000, date='2018-11-05:113941'),\n",
       " Row(userId=100004, page='Home', level='free', ts=1542069587000, date='2018-11-13:003947'),\n",
       " Row(userId=100004, page='NextSong', level='free', ts=1542069615000, date='2018-11-13:004015'),\n",
       " Row(userId=100004, page='Roll Advert', level='free', ts=1542069737000, date='2018-11-13:004217'),\n",
       " Row(userId=100004, page='NextSong', level='free', ts=1542069842000, date='2018-11-13:004402'),\n",
       " Row(userId=100004, page='NextSong', level='free', ts=1542070025000, date='2018-11-13:004705'),\n",
       " Row(userId=100004, page='Roll Advert', level='free', ts=1542070185000, date='2018-11-13:004945'),\n",
       " Row(userId=100004, page='NextSong', level='free', ts=1542070269000, date='2018-11-13:005109'),\n",
       " Row(userId=100004, page='NextSong', level='free', ts=1542070467000, date='2018-11-13:005427'),\n",
       " Row(userId=100004, page='NextSong', level='free', ts=1542070674000, date='2018-11-13:005754'),\n",
       " Row(userId=100004, page='NextSong', level='free', ts=1542071388000, date='2018-11-13:010948'),\n",
       " Row(userId=100004, page='NextSong', level='free', ts=1542071833000, date='2018-11-13:011713'),\n",
       " Row(userId=100004, page='NextSong', level='free', ts=1542072013000, date='2018-11-13:012013'),\n",
       " Row(userId=100004, page='NextSong', level='free', ts=1542072275000, date='2018-11-13:012435'),\n",
       " Row(userId=100004, page='Settings', level='free', ts=1542072341000, date='2018-11-13:012541'),\n",
       " Row(userId=100004, page='NextSong', level='free', ts=1542072509000, date='2018-11-13:012829'),\n",
       " Row(userId=100004, page='NextSong', level='free', ts=1542072788000, date='2018-11-13:013308'),\n",
       " Row(userId=100004, page='NextSong', level='free', ts=1542073024000, date='2018-11-13:013704'),\n",
       " Row(userId=100004, page='NextSong', level='free', ts=1542073278000, date='2018-11-13:014118'),\n",
       " Row(userId=100004, page='NextSong', level='free', ts=1542073454000, date='2018-11-13:014414'),\n",
       " Row(userId=100004, page='NextSong', level='free', ts=1542073655000, date='2018-11-13:014735'),\n",
       " Row(userId=100004, page='Add to Playlist', level='free', ts=1542073790000, date='2018-11-13:014950'),\n",
       " Row(userId=100004, page='NextSong', level='free', ts=1542073896000, date='2018-11-13:015136'),\n",
       " Row(userId=100004, page='NextSong', level='free', ts=1542074194000, date='2018-11-13:015634'),\n",
       " Row(userId=100004, page='NextSong', level='free', ts=1542074398000, date='2018-11-13:015958'),\n",
       " Row(userId=100004, page='NextSong', level='free', ts=1542074700000, date='2018-11-13:020500'),\n",
       " Row(userId=100004, page='Add to Playlist', level='free', ts=1542074707000, date='2018-11-13:020507'),\n",
       " Row(userId=100004, page='NextSong', level='free', ts=1542074890000, date='2018-11-13:020810'),\n",
       " Row(userId=100004, page='NextSong', level='free', ts=1542075179000, date='2018-11-13:021259'),\n",
       " Row(userId=100004, page='NextSong', level='free', ts=1542075466000, date='2018-11-13:021746'),\n",
       " Row(userId=100004, page='NextSong', level='free', ts=1542075703000, date='2018-11-13:022143'),\n",
       " Row(userId=100004, page='NextSong', level='free', ts=1542075959000, date='2018-11-13:022559'),\n",
       " Row(userId=100004, page='Logout', level='free', ts=1542075960000, date='2018-11-13:022600'),\n",
       " Row(userId=100004, page='Home', level='free', ts=1542076210000, date='2018-11-13:023010'),\n",
       " Row(userId=100004, page='NextSong', level='free', ts=1542076229000, date='2018-11-13:023029'),\n",
       " Row(userId=100004, page='NextSong', level='free', ts=1542076478000, date='2018-11-13:023438'),\n",
       " Row(userId=100004, page='Thumbs Up', level='free', ts=1542076479000, date='2018-11-13:023439'),\n",
       " Row(userId=100004, page='NextSong', level='free', ts=1542076713000, date='2018-11-13:023833'),\n",
       " Row(userId=100004, page='NextSong', level='free', ts=1542076926000, date='2018-11-13:024206'),\n",
       " Row(userId=100004, page='NextSong', level='free', ts=1542077132000, date='2018-11-13:024532'),\n",
       " Row(userId=100004, page='NextSong', level='free', ts=1542077357000, date='2018-11-13:024917'),\n",
       " Row(userId=100004, page='NextSong', level='free', ts=1542077609000, date='2018-11-13:025329'),\n",
       " Row(userId=100004, page='Roll Advert', level='free', ts=1542077651000, date='2018-11-13:025411'),\n",
       " Row(userId=100004, page='NextSong', level='free', ts=1542077850000, date='2018-11-13:025730'),\n",
       " Row(userId=100004, page='Roll Advert', level='free', ts=1542078012000, date='2018-11-13:030012'),\n",
       " Row(userId=100004, page='NextSong', level='free', ts=1542078121000, date='2018-11-13:030201'),\n",
       " Row(userId=100004, page='NextSong', level='free', ts=1542078393000, date='2018-11-13:030633'),\n",
       " Row(userId=100004, page='NextSong', level='free', ts=1542078537000, date='2018-11-13:030857'),\n",
       " Row(userId=100004, page='NextSong', level='free', ts=1542078775000, date='2018-11-13:031255'),\n",
       " Row(userId=100004, page='NextSong', level='free', ts=1542079043000, date='2018-11-13:031723'),\n",
       " Row(userId=100004, page='Add Friend', level='free', ts=1542079044000, date='2018-11-13:031724'),\n",
       " Row(userId=100004, page='NextSong', level='free', ts=1542079391000, date='2018-11-13:032311'),\n",
       " Row(userId=100004, page='Roll Advert', level='free', ts=1542079442000, date='2018-11-13:032402'),\n",
       " Row(userId=100004, page='NextSong', level='free', ts=1542079619000, date='2018-11-13:032659'),\n",
       " Row(userId=100004, page='Roll Advert', level='free', ts=1542079870000, date='2018-11-13:033110'),\n",
       " Row(userId=100004, page='Roll Advert', level='free', ts=1542080074000, date='2018-11-13:033434'),\n",
       " Row(userId=100004, page='NextSong', level='free', ts=1542080113000, date='2018-11-13:033513'),\n",
       " Row(userId=100004, page='Roll Advert', level='free', ts=1542080154000, date='2018-11-13:033554'),\n",
       " Row(userId=100004, page='NextSong', level='free', ts=1542080200000, date='2018-11-13:033640'),\n",
       " Row(userId=100004, page='NextSong', level='free', ts=1542080344000, date='2018-11-13:033904'),\n",
       " Row(userId=100004, page='NextSong', level='free', ts=1542080582000, date='2018-11-13:034302'),\n",
       " Row(userId=100004, page='NextSong', level='free', ts=1542080749000, date='2018-11-13:034549'),\n",
       " Row(userId=100004, page='Thumbs Up', level='free', ts=1542080750000, date='2018-11-13:034550'),\n",
       " Row(userId=100004, page='NextSong', level='free', ts=1542080916000, date='2018-11-13:034836'),\n",
       " Row(userId=100004, page='NextSong', level='free', ts=1542081144000, date='2018-11-13:035224'),\n",
       " Row(userId=100004, page='NextSong', level='free', ts=1542081492000, date='2018-11-13:035812'),\n",
       " Row(userId=100004, page='NextSong', level='free', ts=1542081815000, date='2018-11-13:040335'),\n",
       " Row(userId=100004, page='NextSong', level='free', ts=1542082031000, date='2018-11-13:040711'),\n",
       " Row(userId=100004, page='NextSong', level='free', ts=1542082211000, date='2018-11-13:041011'),\n",
       " Row(userId=100004, page='Roll Advert', level='free', ts=1542082446000, date='2018-11-13:041406'),\n",
       " Row(userId=100004, page='NextSong', level='free', ts=1542082463000, date='2018-11-13:041423'),\n",
       " Row(userId=100004, page='NextSong', level='free', ts=1542082749000, date='2018-11-13:041909'),\n",
       " Row(userId=100004, page='Roll Advert', level='free', ts=1542082826000, date='2018-11-13:042026'),\n",
       " Row(userId=100004, page='Roll Advert', level='free', ts=1542082876000, date='2018-11-13:042116'),\n",
       " Row(userId=100004, page='NextSong', level='free', ts=1542082971000, date='2018-11-13:042251'),\n",
       " Row(userId=100004, page='NextSong', level='free', ts=1542083188000, date='2018-11-13:042628'),\n",
       " Row(userId=100004, page='NextSong', level='free', ts=1542083455000, date='2018-11-13:043055'),\n",
       " Row(userId=100004, page='Roll Advert', level='free', ts=1542083460000, date='2018-11-13:043100'),\n",
       " Row(userId=100004, page='NextSong', level='free', ts=1542083646000, date='2018-11-13:043406'),\n",
       " Row(userId=100004, page='NextSong', level='free', ts=1542083872000, date='2018-11-13:043752'),\n",
       " Row(userId=100004, page='Add to Playlist', level='free', ts=1542083873000, date='2018-11-13:043753'),\n",
       " Row(userId=100004, page='Thumbs Up', level='free', ts=1542083874000, date='2018-11-13:043754'),\n",
       " Row(userId=100004, page='NextSong', level='free', ts=1542084089000, date='2018-11-13:044129'),\n",
       " Row(userId=100004, page='NextSong', level='free', ts=1542084256000, date='2018-11-13:044416'),\n",
       " Row(userId=100004, page='NextSong', level='free', ts=1542084416000, date='2018-11-13:044656'),\n",
       " Row(userId=100004, page='NextSong', level='free', ts=1542084653000, date='2018-11-13:045053'),\n",
       " Row(userId=100004, page='Roll Advert', level='free', ts=1542084754000, date='2018-11-13:045234'),\n",
       " Row(userId=100004, page='Upgrade', level='free', ts=1542084840000, date='2018-11-13:045400'),\n",
       " Row(userId=100004, page='NextSong', level='free', ts=1542084841000, date='2018-11-13:045401'),\n",
       " Row(userId=100004, page='NextSong', level='free', ts=1542085042000, date='2018-11-13:045722'),\n",
       " Row(userId=100004, page='NextSong', level='free', ts=1542085278000, date='2018-11-13:050118'),\n",
       " Row(userId=100004, page='Home', level='free', ts=1542085317000, date='2018-11-13:050157'),\n",
       " Row(userId=100004, page='NextSong', level='free', ts=1542085510000, date='2018-11-13:050510'),\n",
       " Row(userId=100004, page='NextSong', level='free', ts=1542085720000, date='2018-11-13:050840'),\n",
       " Row(userId=100004, page='NextSong', level='free', ts=1542085899000, date='2018-11-13:051139'),\n",
       " Row(userId=100004, page='NextSong', level='free', ts=1542086084000, date='2018-11-13:051444'),\n",
       " Row(userId=100004, page='NextSong', level='free', ts=1542086280000, date='2018-11-13:051800'),\n",
       " Row(userId=100004, page='NextSong', level='free', ts=1542086519000, date='2018-11-13:052159'),\n",
       " Row(userId=100004, page='Thumbs Down', level='free', ts=1542086520000, date='2018-11-13:052200'),\n",
       " Row(userId=100004, page='NextSong', level='free', ts=1542086786000, date='2018-11-13:052626'),\n",
       " Row(userId=100004, page='Thumbs Up', level='free', ts=1542086787000, date='2018-11-13:052627'),\n",
       " Row(userId=100004, page='NextSong', level='free', ts=1542087408000, date='2018-11-13:053648'),\n",
       " Row(userId=100004, page='Roll Advert', level='free', ts=1542087804000, date='2018-11-13:054324'),\n",
       " Row(userId=100004, page='NextSong', level='free', ts=1542087988000, date='2018-11-13:054628'),\n",
       " Row(userId=100004, page='Roll Advert', level='free', ts=1542088157000, date='2018-11-13:054917'),\n",
       " Row(userId=100004, page='NextSong', level='free', ts=1542088239000, date='2018-11-13:055039'),\n",
       " Row(userId=100004, page='NextSong', level='free', ts=1542088414000, date='2018-11-13:055334'),\n",
       " Row(userId=100004, page='Thumbs Up', level='free', ts=1542088415000, date='2018-11-13:055335'),\n",
       " Row(userId=100004, page='NextSong', level='free', ts=1542088668000, date='2018-11-13:055748'),\n",
       " Row(userId=100004, page='NextSong', level='free', ts=1542088994000, date='2018-11-13:060314'),\n",
       " Row(userId=100004, page='Roll Advert', level='free', ts=1542089317000, date='2018-11-13:060837'),\n",
       " Row(userId=100004, page='NextSong', level='free', ts=1542089337000, date='2018-11-13:060857'),\n",
       " Row(userId=100004, page='NextSong', level='free', ts=1542089480000, date='2018-11-13:061120'),\n",
       " Row(userId=100004, page='NextSong', level='free', ts=1542089697000, date='2018-11-13:061457'),\n",
       " Row(userId=100004, page='Logout', level='free', ts=1542089698000, date='2018-11-13:061458'),\n",
       " Row(userId=100004, page='Home', level='free', ts=1542103786000, date='2018-11-13:100946'),\n",
       " Row(userId=100004, page='NextSong', level='free', ts=1542104029000, date='2018-11-13:101349'),\n",
       " Row(userId=100004, page='NextSong', level='free', ts=1542104180000, date='2018-11-13:101620'),\n",
       " Row(userId=100004, page='NextSong', level='free', ts=1542104380000, date='2018-11-13:101940'),\n",
       " Row(userId=100004, page='NextSong', level='free', ts=1542104643000, date='2018-11-13:102403'),\n",
       " Row(userId=100004, page='NextSong', level='free', ts=1542104827000, date='2018-11-13:102707'),\n",
       " Row(userId=100004, page='NextSong', level='free', ts=1542105030000, date='2018-11-13:103030'),\n",
       " Row(userId=100004, page='Thumbs Up', level='free', ts=1542105031000, date='2018-11-13:103031'),\n",
       " Row(userId=100004, page='NextSong', level='free', ts=1542105221000, date='2018-11-13:103341'),\n",
       " Row(userId=100004, page='Thumbs Up', level='free', ts=1542105222000, date='2018-11-13:103342'),\n",
       " Row(userId=100004, page='NextSong', level='free', ts=1542105499000, date='2018-11-13:103819'),\n",
       " Row(userId=100004, page='NextSong', level='free', ts=1542105743000, date='2018-11-13:104223'),\n",
       " Row(userId=100004, page='NextSong', level='free', ts=1542106003000, date='2018-11-13:104643'),\n",
       " Row(userId=100004, page='NextSong', level='free', ts=1542106242000, date='2018-11-13:105042'),\n",
       " Row(userId=100004, page='NextSong', level='free', ts=1542106458000, date='2018-11-13:105418'),\n",
       " Row(userId=100004, page='Thumbs Up', level='free', ts=1542106459000, date='2018-11-13:105419'),\n",
       " Row(userId=100004, page='NextSong', level='free', ts=1542106742000, date='2018-11-13:105902'),\n",
       " Row(userId=100004, page='Add Friend', level='free', ts=1542106743000, date='2018-11-13:105903'),\n",
       " Row(userId=100004, page='NextSong', level='free', ts=1542106913000, date='2018-11-13:110153'),\n",
       " Row(userId=100004, page='NextSong', level='free', ts=1542107140000, date='2018-11-13:110540'),\n",
       " Row(userId=100004, page='Upgrade', level='free', ts=1542107162000, date='2018-11-13:110602'),\n",
       " Row(userId=100004, page='NextSong', level='free', ts=1542107395000, date='2018-11-13:110955'),\n",
       " Row(userId=100004, page='NextSong', level='free', ts=1542107647000, date='2018-11-13:111407'),\n",
       " Row(userId=100004, page='NextSong', level='free', ts=1542107915000, date='2018-11-13:111835'),\n",
       " Row(userId=100004, page='NextSong', level='free', ts=1542108140000, date='2018-11-13:112220'),\n",
       " Row(userId=100004, page='NextSong', level='free', ts=1542108261000, date='2018-11-13:112421'),\n",
       " Row(userId=100004, page='NextSong', level='free', ts=1542108673000, date='2018-11-13:113113'),\n",
       " Row(userId=100004, page='NextSong', level='free', ts=1542108872000, date='2018-11-13:113432'),\n",
       " Row(userId=100004, page='NextSong', level='free', ts=1542109111000, date='2018-11-13:113831'),\n",
       " Row(userId=100004, page='NextSong', level='free', ts=1542109288000, date='2018-11-13:114128'),\n",
       " Row(userId=100004, page='NextSong', level='free', ts=1542109502000, date='2018-11-13:114502'),\n",
       " Row(userId=100004, page='NextSong', level='free', ts=1542109746000, date='2018-11-13:114906'),\n",
       " Row(userId=100004, page='Add to Playlist', level='free', ts=1542109846000, date='2018-11-13:115046'),\n",
       " Row(userId=100004, page='NextSong', level='free', ts=1542110050000, date='2018-11-13:115410'),\n",
       " Row(userId=100004, page='Thumbs Down', level='free', ts=1542110051000, date='2018-11-13:115411'),\n",
       " Row(userId=100004, page='NextSong', level='free', ts=1542110311000, date='2018-11-13:115831'),\n",
       " Row(userId=100004, page='NextSong', level='free', ts=1542110458000, date='2018-11-13:120058'),\n",
       " Row(userId=100004, page='Add Friend', level='free', ts=1542110459000, date='2018-11-13:120059'),\n",
       " Row(userId=100004, page='Add Friend', level='free', ts=1542110460000, date='2018-11-13:120100'),\n",
       " Row(userId=100004, page='Home', level='free', ts=1542110479000, date='2018-11-13:120119'),\n",
       " Row(userId=100004, page='NextSong', level='free', ts=1542110524000, date='2018-11-13:120204'),\n",
       " Row(userId=100004, page='NextSong', level='free', ts=1542110734000, date='2018-11-13:120534'),\n",
       " Row(userId=100004, page='Thumbs Down', level='free', ts=1542110735000, date='2018-11-13:120535'),\n",
       " Row(userId=100004, page='NextSong', level='free', ts=1542111030000, date='2018-11-13:121030'),\n",
       " Row(userId=100004, page='NextSong', level='free', ts=1542111150000, date='2018-11-13:121230'),\n",
       " Row(userId=100004, page='NextSong', level='free', ts=1542111389000, date='2018-11-13:121629'),\n",
       " Row(userId=100004, page='NextSong', level='free', ts=1542111685000, date='2018-11-13:122125'),\n",
       " Row(userId=100004, page='Logout', level='free', ts=1542111686000, date='2018-11-13:122126'),\n",
       " Row(userId=100004, page='Home', level='free', ts=1542111717000, date='2018-11-13:122157'),\n",
       " Row(userId=100004, page='NextSong', level='free', ts=1542111950000, date='2018-11-13:122550'),\n",
       " Row(userId=100004, page='NextSong', level='free', ts=1542112099000, date='2018-11-13:122819'),\n",
       " Row(userId=100004, page='NextSong', level='free', ts=1542112303000, date='2018-11-13:123143'),\n",
       " Row(userId=100004, page='Logout', level='free', ts=1542112304000, date='2018-11-13:123144'),\n",
       " Row(userId=100004, page='Home', level='free', ts=1542143145000, date='2018-11-13:210545'),\n",
       " Row(userId=100004, page='Home', level='free', ts=1542299194000, date='2018-11-15:162634'),\n",
       " Row(userId=100004, page='NextSong', level='free', ts=1542299221000, date='2018-11-15:162701'),\n",
       " Row(userId=100004, page='NextSong', level='free', ts=1542299412000, date='2018-11-15:163012'),\n",
       " Row(userId=100004, page='NextSong', level='free', ts=1542299688000, date='2018-11-15:163448'),\n",
       " Row(userId=100004, page='NextSong', level='free', ts=1542299976000, date='2018-11-15:163936'),\n",
       " Row(userId=100004, page='Roll Advert', level='free', ts=1542299986000, date='2018-11-15:163946'),\n",
       " Row(userId=100004, page='NextSong', level='free', ts=1542300397000, date='2018-11-15:164637'),\n",
       " Row(userId=100004, page='Roll Advert', level='free', ts=1542300507000, date='2018-11-15:164827'),\n",
       " Row(userId=100004, page='NextSong', level='free', ts=1542300533000, date='2018-11-15:164853'),\n",
       " Row(userId=100004, page='NextSong', level='free', ts=1542300882000, date='2018-11-15:165442'),\n",
       " Row(userId=100004, page='NextSong', level='free', ts=1542301112000, date='2018-11-15:165832'),\n",
       " Row(userId=100004, page='NextSong', level='free', ts=1542301356000, date='2018-11-15:170236'),\n",
       " Row(userId=100004, page='NextSong', level='free', ts=1542301639000, date='2018-11-15:170719'),\n",
       " Row(userId=100004, page='NextSong', level='free', ts=1542301862000, date='2018-11-15:171102'),\n",
       " Row(userId=100004, page='NextSong', level='free', ts=1542302176000, date='2018-11-15:171616'),\n",
       " Row(userId=100004, page='NextSong', level='free', ts=1542302474000, date='2018-11-15:172114'),\n",
       " Row(userId=100004, page='NextSong', level='free', ts=1542302732000, date='2018-11-15:172532'),\n",
       " Row(userId=100004, page='NextSong', level='free', ts=1542302944000, date='2018-11-15:172904'),\n",
       " Row(userId=100004, page='NextSong', level='free', ts=1542303149000, date='2018-11-15:173229'),\n",
       " Row(userId=100004, page='NextSong', level='free', ts=1542303335000, date='2018-11-15:173535'),\n",
       " Row(userId=100004, page='Roll Advert', level='free', ts=1542303548000, date='2018-11-15:173908'),\n",
       " Row(userId=100004, page='NextSong', level='free', ts=1542303607000, date='2018-11-15:174007'),\n",
       " Row(userId=100004, page='Upgrade', level='free', ts=1542303706000, date='2018-11-15:174146'),\n",
       " Row(userId=100004, page='NextSong', level='free', ts=1542303772000, date='2018-11-15:174252'),\n",
       " Row(userId=100004, page='Roll Advert', level='free', ts=1542303819000, date='2018-11-15:174339'),\n",
       " Row(userId=100004, page='NextSong', level='free', ts=1542303932000, date='2018-11-15:174532'),\n",
       " Row(userId=100004, page='Roll Advert', level='free', ts=1542303981000, date='2018-11-15:174621'),\n",
       " Row(userId=100004, page='NextSong', level='free', ts=1542304135000, date='2018-11-15:174855'),\n",
       " Row(userId=100004, page='NextSong', level='free', ts=1542304448000, date='2018-11-15:175408'),\n",
       " Row(userId=100004, page='Home', level='free', ts=1542304583000, date='2018-11-15:175623'),\n",
       " Row(userId=100004, page='Help', level='free', ts=1542304706000, date='2018-11-15:175826'),\n",
       " Row(userId=100004, page='NextSong', level='free', ts=1542304786000, date='2018-11-15:175946'),\n",
       " Row(userId=100004, page='Settings', level='free', ts=1542305161000, date='2018-11-15:180601'),\n",
       " Row(userId=100004, page='NextSong', level='free', ts=1542305292000, date='2018-11-15:180812'),\n",
       " Row(userId=100004, page='NextSong', level='free', ts=1542305548000, date='2018-11-15:181228'),\n",
       " Row(userId=100004, page='NextSong', level='free', ts=1542305727000, date='2018-11-15:181527'),\n",
       " Row(userId=100004, page='Thumbs Down', level='free', ts=1542305728000, date='2018-11-15:181528'),\n",
       " Row(userId=100004, page='NextSong', level='free', ts=1542305968000, date='2018-11-15:181928'),\n",
       " Row(userId=100004, page='Thumbs Up', level='free', ts=1542305969000, date='2018-11-15:181929'),\n",
       " Row(userId=100004, page='NextSong', level='free', ts=1542306181000, date='2018-11-15:182301'),\n",
       " Row(userId=100004, page='Roll Advert', level='free', ts=1542306188000, date='2018-11-15:182308'),\n",
       " Row(userId=100004, page='NextSong', level='free', ts=1542306463000, date='2018-11-15:182743'),\n",
       " Row(userId=100004, page='NextSong', level='free', ts=1542306730000, date='2018-11-15:183210'),\n",
       " Row(userId=100004, page='Roll Advert', level='free', ts=1542306756000, date='2018-11-15:183236'),\n",
       " Row(userId=100004, page='NextSong', level='free', ts=1542306851000, date='2018-11-15:183411'),\n",
       " Row(userId=100004, page='Add to Playlist', level='free', ts=1542306853000, date='2018-11-15:183413'),\n",
       " Row(userId=100004, page='NextSong', level='free', ts=1542307068000, date='2018-11-15:183748'),\n",
       " Row(userId=100004, page='NextSong', level='free', ts=1542307311000, date='2018-11-15:184151'),\n",
       " Row(userId=100004, page='NextSong', level='free', ts=1542307543000, date='2018-11-15:184543'),\n",
       " Row(userId=100004, page='NextSong', level='free', ts=1542307746000, date='2018-11-15:184906'),\n",
       " Row(userId=100004, page='NextSong', level='free', ts=1542307970000, date='2018-11-15:185250'),\n",
       " Row(userId=100004, page='NextSong', level='free', ts=1542308180000, date='2018-11-15:185620'),\n",
       " Row(userId=100004, page='NextSong', level='free', ts=1542308427000, date='2018-11-15:190027'),\n",
       " Row(userId=100004, page='NextSong', level='free', ts=1542308699000, date='2018-11-15:190459'),\n",
       " Row(userId=100004, page='NextSong', level='free', ts=1542309047000, date='2018-11-15:191047'),\n",
       " Row(userId=100004, page='NextSong', level='free', ts=1542309242000, date='2018-11-15:191402'),\n",
       " Row(userId=100004, page='NextSong', level='free', ts=1542309510000, date='2018-11-15:191830'),\n",
       " Row(userId=100004, page='NextSong', level='free', ts=1542309719000, date='2018-11-15:192159'),\n",
       " Row(userId=100004, page='NextSong', level='free', ts=1542309915000, date='2018-11-15:192515'),\n",
       " Row(userId=100004, page='NextSong', level='free', ts=1542310116000, date='2018-11-15:192836'),\n",
       " Row(userId=100004, page='NextSong', level='free', ts=1542310484000, date='2018-11-15:193444'),\n",
       " Row(userId=100004, page='Roll Advert', level='free', ts=1542310500000, date='2018-11-15:193500'),\n",
       " Row(userId=100004, page='NextSong', level='free', ts=1542310822000, date='2018-11-15:194022'),\n",
       " Row(userId=100004, page='Roll Advert', level='free', ts=1542310907000, date='2018-11-15:194147'),\n",
       " Row(userId=100004, page='NextSong', level='free', ts=1542311094000, date='2018-11-15:194454'),\n",
       " Row(userId=100004, page='Roll Advert', level='free', ts=1542311203000, date='2018-11-15:194643'),\n",
       " Row(userId=100004, page='NextSong', level='free', ts=1542311382000, date='2018-11-15:194942'),\n",
       " Row(userId=100004, page='NextSong', level='free', ts=1542311592000, date='2018-11-15:195312'),\n",
       " Row(userId=100004, page='Logout', level='free', ts=1542311593000, date='2018-11-15:195313'),\n",
       " Row(userId=100004, page='Home', level='free', ts=1542311614000, date='2018-11-15:195334'),\n",
       " Row(userId=100004, page='Home', level='free', ts=1542814130000, date='2018-11-21:152850'),\n",
       " Row(userId=100004, page='NextSong', level='free', ts=1542814196000, date='2018-11-21:152956'),\n",
       " Row(userId=100004, page='NextSong', level='free', ts=1542814402000, date='2018-11-21:153322'),\n",
       " Row(userId=100004, page='NextSong', level='free', ts=1542814666000, date='2018-11-21:153746'),\n",
       " Row(userId=100004, page='Settings', level='free', ts=1542814674000, date='2018-11-21:153754'),\n",
       " Row(userId=100004, page='Save Settings', level='free', ts=1542814675000, date='2018-11-21:153755'),\n",
       " Row(userId=100004, page='Home', level='free', ts=1542814703000, date='2018-11-21:153823'),\n",
       " Row(userId=100004, page='Add Friend', level='free', ts=1542814704000, date='2018-11-21:153824'),\n",
       " Row(userId=100004, page='NextSong', level='free', ts=1542814907000, date='2018-11-21:154147'),\n",
       " Row(userId=100004, page='NextSong', level='free', ts=1542815072000, date='2018-11-21:154432'),\n",
       " Row(userId=100004, page='Thumbs Up', level='free', ts=1542815073000, date='2018-11-21:154433'),\n",
       " Row(userId=100004, page='NextSong', level='free', ts=1542815218000, date='2018-11-21:154658'),\n",
       " Row(userId=100004, page='NextSong', level='free', ts=1542815308000, date='2018-11-21:154828'),\n",
       " Row(userId=100004, page='NextSong', level='free', ts=1542815564000, date='2018-11-21:155244'),\n",
       " Row(userId=100004, page='NextSong', level='free', ts=1542815816000, date='2018-11-21:155656'),\n",
       " Row(userId=100004, page='NextSong', level='free', ts=1542815864000, date='2018-11-21:155744'),\n",
       " Row(userId=100004, page='Home', level='free', ts=1542816125000, date='2018-11-21:160205'),\n",
       " Row(userId=100004, page='Home', level='free', ts=1543107142000, date='2018-11-25:005222'),\n",
       " Row(userId=100004, page='NextSong', level='free', ts=1543107173000, date='2018-11-25:005253'),\n",
       " Row(userId=100004, page='Roll Advert', level='free', ts=1543107387000, date='2018-11-25:005627'),\n",
       " Row(userId=100004, page='NextSong', level='free', ts=1543107411000, date='2018-11-25:005651'),\n",
       " Row(userId=100004, page='NextSong', level='free', ts=1543107572000, date='2018-11-25:005932'),\n",
       " Row(userId=100004, page='NextSong', level='free', ts=1543107809000, date='2018-11-25:010329'),\n",
       " Row(userId=100004, page='NextSong', level='free', ts=1543107984000, date='2018-11-25:010624'),\n",
       " Row(userId=100004, page='NextSong', level='free', ts=1543108204000, date='2018-11-25:011004'),\n",
       " Row(userId=100004, page='Thumbs Down', level='free', ts=1543108205000, date='2018-11-25:011005'),\n",
       " Row(userId=100004, page='Home', level='free', ts=1543309869000, date='2018-11-27:091109'),\n",
       " Row(userId=100004, page='NextSong', level='free', ts=1543310174000, date='2018-11-27:091614'),\n",
       " Row(userId=100004, page='Thumbs Down', level='free', ts=1543310175000, date='2018-11-27:091615'),\n",
       " Row(userId=100004, page='NextSong', level='free', ts=1543310396000, date='2018-11-27:091956'),\n",
       " Row(userId=100004, page='Add to Playlist', level='free', ts=1543310500000, date='2018-11-27:092140'),\n",
       " Row(userId=100004, page='NextSong', level='free', ts=1543310766000, date='2018-11-27:092606'),\n",
       " Row(userId=100004, page='Roll Advert', level='free', ts=1543310786000, date='2018-11-27:092626'),\n",
       " Row(userId=100004, page='NextSong', level='free', ts=1543311012000, date='2018-11-27:093012'),\n",
       " Row(userId=100004, page='NextSong', level='free', ts=1543311289000, date='2018-11-27:093449'),\n",
       " Row(userId=100004, page='Roll Advert', level='free', ts=1543311612000, date='2018-11-27:094012'),\n",
       " Row(userId=100004, page='NextSong', level='free', ts=1543311680000, date='2018-11-27:094120'),\n",
       " Row(userId=100004, page='NextSong', level='free', ts=1543312009000, date='2018-11-27:094649'),\n",
       " Row(userId=100004, page='NextSong', level='free', ts=1543312261000, date='2018-11-27:095101'),\n",
       " Row(userId=100004, page='NextSong', level='free', ts=1543312525000, date='2018-11-27:095525'),\n",
       " Row(userId=100004, page='Roll Advert', level='free', ts=1543312584000, date='2018-11-27:095624'),\n",
       " Row(userId=100004, page='NextSong', level='free', ts=1543312823000, date='2018-11-27:100023'),\n",
       " Row(userId=100004, page='NextSong', level='free', ts=1543313076000, date='2018-11-27:100436'),\n",
       " Row(userId=100004, page='NextSong', level='free', ts=1543313335000, date='2018-11-27:100855'),\n",
       " Row(userId=100004, page='Roll Advert', level='free', ts=1543313418000, date='2018-11-27:101018'),\n",
       " Row(userId=100004, page='NextSong', level='free', ts=1543313652000, date='2018-11-27:101412'),\n",
       " Row(userId=100004, page='NextSong', level='free', ts=1543313881000, date='2018-11-27:101801'),\n",
       " Row(userId=100004, page='NextSong', level='free', ts=1543314166000, date='2018-11-27:102246'),\n",
       " Row(userId=100004, page='NextSong', level='free', ts=1543314395000, date='2018-11-27:102635'),\n",
       " Row(userId=100004, page='NextSong', level='free', ts=1543314621000, date='2018-11-27:103021'),\n",
       " Row(userId=100004, page='Roll Advert', level='free', ts=1543314641000, date='2018-11-27:103041'),\n",
       " Row(userId=100004, page='NextSong', level='free', ts=1543314904000, date='2018-11-27:103504'),\n",
       " Row(userId=100004, page='NextSong', level='free', ts=1543315046000, date='2018-11-27:103726'),\n",
       " Row(userId=100004, page='Roll Advert', level='free', ts=1543315157000, date='2018-11-27:103917'),\n",
       " Row(userId=100004, page='NextSong', level='free', ts=1543315507000, date='2018-11-27:104507'),\n",
       " Row(userId=100004, page='Home', level='free', ts=1543315541000, date='2018-11-27:104541'),\n",
       " Row(userId=100004, page='NextSong', level='free', ts=1543315696000, date='2018-11-27:104816'),\n",
       " Row(userId=100004, page='NextSong', level='free', ts=1543316120000, date='2018-11-27:105520'),\n",
       " Row(userId=100004, page='NextSong', level='free', ts=1543316381000, date='2018-11-27:105941'),\n",
       " Row(userId=100004, page='NextSong', level='free', ts=1543316586000, date='2018-11-27:110306'),\n",
       " Row(userId=100004, page='NextSong', level='free', ts=1543316801000, date='2018-11-27:110641'),\n",
       " Row(userId=100004, page='Roll Advert', level='free', ts=1543317060000, date='2018-11-27:111100'),\n",
       " Row(userId=100004, page='NextSong', level='free', ts=1543317091000, date='2018-11-27:111131'),\n",
       " Row(userId=100004, page='Upgrade', level='free', ts=1543317097000, date='2018-11-27:111137'),\n",
       " Row(userId=100004, page='Logout', level='free', ts=1543317098000, date='2018-11-27:111138'),\n",
       " Row(userId=100004, page='Home', level='free', ts=1543317245000, date='2018-11-27:111405'),\n",
       " Row(userId=100004, page='NextSong', level='free', ts=1543317262000, date='2018-11-27:111422'),\n",
       " Row(userId=100004, page='NextSong', level='free', ts=1543317495000, date='2018-11-27:111815'),\n",
       " Row(userId=100004, page='NextSong', level='free', ts=1543317740000, date='2018-11-27:112220'),\n",
       " Row(userId=100004, page='NextSong', level='free', ts=1543318024000, date='2018-11-27:112704'),\n",
       " Row(userId=100004, page='NextSong', level='free', ts=1543318241000, date='2018-11-27:113041'),\n",
       " Row(userId=100004, page='NextSong', level='free', ts=1543318545000, date='2018-11-27:113545'),\n",
       " Row(userId=100004, page='NextSong', level='free', ts=1543318791000, date='2018-11-27:113951'),\n",
       " Row(userId=100004, page='Roll Advert', level='free', ts=1543318832000, date='2018-11-27:114032'),\n",
       " Row(userId=100004, page='NextSong', level='free', ts=1543319090000, date='2018-11-27:114450'),\n",
       " Row(userId=100004, page='NextSong', level='free', ts=1543319469000, date='2018-11-27:115109'),\n",
       " Row(userId=100004, page='Thumbs Down', level='free', ts=1543319470000, date='2018-11-27:115110'),\n",
       " Row(userId=100004, page='NextSong', level='free', ts=1543319744000, date='2018-11-27:115544'),\n",
       " Row(userId=100004, page='NextSong', level='free', ts=1543319945000, date='2018-11-27:115905'),\n",
       " Row(userId=100004, page='NextSong', level='free', ts=1543320123000, date='2018-11-27:120203'),\n",
       " Row(userId=100004, page='NextSong', level='free', ts=1543320454000, date='2018-11-27:120734'),\n",
       " Row(userId=100004, page='Error', level='free', ts=1543320456000, date='2018-11-27:120736'),\n",
       " Row(userId=100004, page='NextSong', level='free', ts=1543320798000, date='2018-11-27:121318'),\n",
       " Row(userId=100004, page='NextSong', level='free', ts=1543321043000, date='2018-11-27:121723'),\n",
       " Row(userId=100004, page='NextSong', level='free', ts=1543321309000, date='2018-11-27:122149'),\n",
       " Row(userId=100004, page='Roll Advert', level='free', ts=1543321422000, date='2018-11-27:122342'),\n",
       " Row(userId=100004, page='NextSong', level='free', ts=1543321475000, date='2018-11-27:122435'),\n",
       " Row(userId=100004, page='NextSong', level='free', ts=1543321692000, date='2018-11-27:122812'),\n",
       " Row(userId=100004, page='NextSong', level='free', ts=1543321904000, date='2018-11-27:123144'),\n",
       " Row(userId=100004, page='NextSong', level='free', ts=1543322191000, date='2018-11-27:123631'),\n",
       " Row(userId=100004, page='NextSong', level='free', ts=1543322427000, date='2018-11-27:124027'),\n",
       " Row(userId=100004, page='NextSong', level='free', ts=1543322819000, date='2018-11-27:124659'),\n",
       " Row(userId=100004, page='NextSong', level='free', ts=1543322993000, date='2018-11-27:124953'),\n",
       " Row(userId=100004, page='NextSong', level='free', ts=1543323393000, date='2018-11-27:125633'),\n",
       " Row(userId=100004, page='Help', level='free', ts=1543323614000, date='2018-11-27:130014'),\n",
       " Row(userId=100004, page='Home', level='free', ts=1543323713000, date='2018-11-27:130153'),\n",
       " Row(userId=100004, page='NextSong', level='free', ts=1543324136000, date='2018-11-27:130856'),\n",
       " Row(userId=100004, page='NextSong', level='free', ts=1543324420000, date='2018-11-27:131340'),\n",
       " Row(userId=100004, page='NextSong', level='free', ts=1543324601000, date='2018-11-27:131641'),\n",
       " Row(userId=100004, page='NextSong', level='free', ts=1543324758000, date='2018-11-27:131918'),\n",
       " Row(userId=100004, page='Settings', level='free', ts=1543324851000, date='2018-11-27:132051'),\n",
       " Row(userId=100004, page='Home', level='free', ts=1543324924000, date='2018-11-27:132204'),\n",
       " Row(userId=100004, page='NextSong', level='free', ts=1543325106000, date='2018-11-27:132506'),\n",
       " Row(userId=100004, page='Home', level='free', ts=1543325143000, date='2018-11-27:132543'),\n",
       " Row(userId=100004, page='NextSong', level='free', ts=1543325430000, date='2018-11-27:133030'),\n",
       " Row(userId=100004, page='Thumbs Up', level='free', ts=1543325431000, date='2018-11-27:133031'),\n",
       " Row(userId=100004, page='NextSong', level='free', ts=1543325670000, date='2018-11-27:133430'),\n",
       " Row(userId=100004, page='NextSong', level='free', ts=1543325850000, date='2018-11-27:133730'),\n",
       " Row(userId=100004, page='Roll Advert', level='free', ts=1543325994000, date='2018-11-27:133954'),\n",
       " Row(userId=100004, page='NextSong', level='free', ts=1543326119000, date='2018-11-27:134159'),\n",
       " Row(userId=100004, page='Roll Advert', level='free', ts=1543326124000, date='2018-11-27:134204'),\n",
       " Row(userId=100004, page='NextSong', level='free', ts=1543326466000, date='2018-11-27:134746'),\n",
       " Row(userId=100004, page='NextSong', level='free', ts=1543326718000, date='2018-11-27:135158'),\n",
       " Row(userId=100004, page='Roll Advert', level='free', ts=1543326722000, date='2018-11-27:135202'),\n",
       " Row(userId=100004, page='NextSong', level='free', ts=1543326943000, date='2018-11-27:135543'),\n",
       " Row(userId=100004, page='NextSong', level='free', ts=1543327183000, date='2018-11-27:135943'),\n",
       " Row(userId=100004, page='NextSong', level='free', ts=1543327531000, date='2018-11-27:140531'),\n",
       " Row(userId=100004, page='Roll Advert', level='free', ts=1543327780000, date='2018-11-27:140940'),\n",
       " Row(userId=100004, page='Logout', level='free', ts=1543327781000, date='2018-11-27:140941'),\n",
       " Row(userId=100004, page='Home', level='free', ts=1543328168000, date='2018-11-27:141608'),\n",
       " Row(userId=100004, page='NextSong', level='free', ts=1543328169000, date='2018-11-27:141609'),\n",
       " Row(userId=100004, page='NextSong', level='free', ts=1543328442000, date='2018-11-27:142042'),\n",
       " Row(userId=100004, page='NextSong', level='free', ts=1543328692000, date='2018-11-27:142452'),\n",
       " Row(userId=100004, page='Upgrade', level='free', ts=1543328768000, date='2018-11-27:142608'),\n",
       " Row(userId=100004, page='Submit Upgrade', level='free', ts=1543328769000, date='2018-11-27:142609'),\n",
       " Row(userId=100004, page='Home', level='paid', ts=1543328802000, date='2018-11-27:142642'),\n",
       " Row(userId=100004, page='NextSong', level='paid', ts=1543328879000, date='2018-11-27:142759'),\n",
       " Row(userId=100004, page='Thumbs Up', level='paid', ts=1543328880000, date='2018-11-27:142800'),\n",
       " Row(userId=100004, page='NextSong', level='paid', ts=1543329030000, date='2018-11-27:143030'),\n",
       " Row(userId=100004, page='NextSong', level='paid', ts=1543329367000, date='2018-11-27:143607'),\n",
       " Row(userId=100004, page='NextSong', level='paid', ts=1543329579000, date='2018-11-27:143939'),\n",
       " Row(userId=100004, page='NextSong', level='paid', ts=1543329810000, date='2018-11-27:144330'),\n",
       " Row(userId=100004, page='NextSong', level='paid', ts=1543330184000, date='2018-11-27:144944'),\n",
       " Row(userId=100004, page='NextSong', level='paid', ts=1543330423000, date='2018-11-27:145343'),\n",
       " Row(userId=100004, page='NextSong', level='paid', ts=1543330607000, date='2018-11-27:145647'),\n",
       " Row(userId=100004, page='NextSong', level='paid', ts=1543330781000, date='2018-11-27:145941'),\n",
       " Row(userId=100004, page='NextSong', level='paid', ts=1543330910000, date='2018-11-27:150150'),\n",
       " Row(userId=100004, page='NextSong', level='paid', ts=1543331151000, date='2018-11-27:150551'),\n",
       " Row(userId=100004, page='Thumbs Down', level='paid', ts=1543331152000, date='2018-11-27:150552'),\n",
       " Row(userId=100004, page='NextSong', level='paid', ts=1543331447000, date='2018-11-27:151047'),\n",
       " Row(userId=100004, page='NextSong', level='paid', ts=1543332102000, date='2018-11-27:152142'),\n",
       " Row(userId=100004, page='Home', level='paid', ts=1543332186000, date='2018-11-27:152306'),\n",
       " Row(userId=100004, page='Add Friend', level='paid', ts=1543332187000, date='2018-11-27:152307'),\n",
       " Row(userId=100004, page='Add Friend', level='paid', ts=1543332188000, date='2018-11-27:152308'),\n",
       " Row(userId=100004, page='NextSong', level='paid', ts=1543332361000, date='2018-11-27:152601'),\n",
       " Row(userId=100004, page='NextSong', level='paid', ts=1543332691000, date='2018-11-27:153131'),\n",
       " Row(userId=100004, page='NextSong', level='paid', ts=1543332993000, date='2018-11-27:153633'),\n",
       " Row(userId=100004, page='NextSong', level='paid', ts=1543333269000, date='2018-11-27:154109'),\n",
       " Row(userId=100004, page='NextSong', level='paid', ts=1543333608000, date='2018-11-27:154648'),\n",
       " Row(userId=100004, page='NextSong', level='paid', ts=1543333730000, date='2018-11-27:154850'),\n",
       " Row(userId=100004, page='NextSong', level='paid', ts=1543333978000, date='2018-11-27:155258'),\n",
       " Row(userId=100004, page='NextSong', level='paid', ts=1543334184000, date='2018-11-27:155624'),\n",
       " Row(userId=100004, page='NextSong', level='paid', ts=1543334287000, date='2018-11-27:155807'),\n",
       " Row(userId=100004, page='NextSong', level='paid', ts=1543334483000, date='2018-11-27:160123'),\n",
       " Row(userId=100004, page='NextSong', level='paid', ts=1543334748000, date='2018-11-27:160548'),\n",
       " Row(userId=100004, page='NextSong', level='paid', ts=1543335204000, date='2018-11-27:161324'),\n",
       " Row(userId=100004, page='NextSong', level='paid', ts=1543335320000, date='2018-11-27:161520'),\n",
       " Row(userId=100004, page='NextSong', level='paid', ts=1543335486000, date='2018-11-27:161806'),\n",
       " Row(userId=100004, page='NextSong', level='paid', ts=1543335801000, date='2018-11-27:162321'),\n",
       " Row(userId=100004, page='NextSong', level='paid', ts=1543336005000, date='2018-11-27:162645'),\n",
       " Row(userId=100004, page='NextSong', level='paid', ts=1543336215000, date='2018-11-27:163015'),\n",
       " Row(userId=100004, page='NextSong', level='paid', ts=1543336366000, date='2018-11-27:163246'),\n",
       " Row(userId=100004, page='NextSong', level='paid', ts=1543336607000, date='2018-11-27:163647'),\n",
       " Row(userId=100004, page='Thumbs Up', level='paid', ts=1543336608000, date='2018-11-27:163648'),\n",
       " Row(userId=100004, page='NextSong', level='paid', ts=1543336863000, date='2018-11-27:164103'),\n",
       " Row(userId=100004, page='NextSong', level='paid', ts=1543337092000, date='2018-11-27:164452'),\n",
       " Row(userId=100004, page='NextSong', level='paid', ts=1543337330000, date='2018-11-27:164850'),\n",
       " Row(userId=100004, page='Thumbs Up', level='paid', ts=1543337331000, date='2018-11-27:164851'),\n",
       " Row(userId=100004, page='NextSong', level='paid', ts=1543337735000, date='2018-11-27:165535'),\n",
       " Row(userId=100004, page='NextSong', level='paid', ts=1543337898000, date='2018-11-27:165818'),\n",
       " Row(userId=100004, page='NextSong', level='paid', ts=1543338004000, date='2018-11-27:170004'),\n",
       " Row(userId=100004, page='NextSong', level='paid', ts=1543338328000, date='2018-11-27:170528'),\n",
       " Row(userId=100004, page='NextSong', level='paid', ts=1543338509000, date='2018-11-27:170829'),\n",
       " Row(userId=100004, page='Home', level='paid', ts=1543338562000, date='2018-11-27:170922'),\n",
       " Row(userId=100004, page='NextSong', level='paid', ts=1543338676000, date='2018-11-27:171116'),\n",
       " Row(userId=100004, page='NextSong', level='paid', ts=1543338980000, date='2018-11-27:171620'),\n",
       " Row(userId=100004, page='NextSong', level='paid', ts=1543339177000, date='2018-11-27:171937'),\n",
       " Row(userId=100004, page='NextSong', level='paid', ts=1543339409000, date='2018-11-27:172329'),\n",
       " Row(userId=100004, page='NextSong', level='paid', ts=1543339648000, date='2018-11-27:172728'),\n",
       " ...]"
      ]
     },
     "execution_count": 93,
     "metadata": {},
     "output_type": "execute_result"
    }
   ],
   "source": [
    "# Showing activity and relevant data for a specific user, sorted by time. This helps us derive activity patterns.\n",
    "user_log.select([\"userId\", \"page\", \"level\", \"ts\", \"date\"]).where(user_log.userId == 100004).sort(\"ts\").collect()"
   ]
  },
  {
   "source": [
    "# Activity visualization\n",
    "\n",
    "In this section, an activity visualization function is created. It will help visualiza correlations\n",
    "between activity patterns on a temporal axis."
   ],
   "cell_type": "markdown",
   "metadata": {}
  },
  {
   "cell_type": "code",
   "execution_count": 95,
   "metadata": {},
   "outputs": [],
   "source": [
    "def create_time_event_vector(df, user, time_start, time_end, to_keep):\n",
    "    \"\"\"\n",
    "    Creates a panda dataframe that could be used to plot filtered events over a time axis\n",
    "    \n",
    "    Args:\n",
    "        df (spark.DataFrame): Dataframe with all data\n",
    "        user (int): Unique integer user identifier\n",
    "        time_start (int): in milliseconds, the start of the time window to be filtered\n",
    "        time_end (int): in milliseconds, the end of the time window to be filtered\n",
    "        to_keep (str): The string identifier for the page or event\n",
    "    Return:\n",
    "        pandas.DataFrame: Data frame that has been filtered, sorted, only a subset of the events\n",
    "    \"\"\"\n",
    "    output = {}\n",
    "    subset = df.select([\"ts\", \"page_label\", \"page\"]).\\\n",
    "    where((user_log.userId == user)).sort(\"ts\").collect()\n",
    "    output['ts'] =  [x.asDict()[\"ts\"] for x in subset]\n",
    "    output['page_label'] = [x.asDict()[\"page_label\"] for x in subset]\n",
    "    output['page'] = [x.asDict()[\"page\"] for x in subset]\n",
    "    events_in_time = pd.DataFrame(output).sort_values(by='ts').set_index('page')\n",
    "    events_in_time = events_in_time.loc[to_keep, :]    \n",
    "    events_in_time = events_in_time[(events_in_time.ts > time_start) & (events_in_time.ts < time_end)]\n",
    "    events_in_time = events_in_time.reset_index()\n",
    "    return events_in_time"
   ]
  },
  {
   "cell_type": "code",
   "execution_count": 96,
   "metadata": {},
   "outputs": [
    {
     "name": "stderr",
     "output_type": "stream",
     "text": [
      "/opt/conda/lib/python3.6/site-packages/pandas/core/indexing.py:1472: FutureWarning: \n",
      "Passing list-likes to .loc or [] with any missing label will raise\n",
      "KeyError in the future, you can use .reindex() as an alternative.\n",
      "\n",
      "See the documentation here:\n",
      "https://pandas.pydata.org/pandas-docs/stable/indexing.html#deprecate-loc-reindex-listlike\n",
      "  return self._getitem_tuple(key)\n"
     ]
    }
   ],
   "source": [
    "# Setting time range for time-series analysis on user 100004\n",
    "time_start = 1540314019000\n",
    "time_end = 1540975786000\n",
    "to_keep = ['NextSong', 'Downgrade', 'Thumbs Up', 'Thumbs Down', 'Submit Downgrade', 'Cancellation Confirmation']\n",
    "time_event = create_time_event_vector(user_log, 100004, time_start, time_end, to_keep)"
   ]
  },
  {
   "cell_type": "code",
   "execution_count": 97,
   "metadata": {},
   "outputs": [
    {
     "name": "stdout",
     "output_type": "stream",
     "text": [
      "['NextSong' 'Downgrade' 'Thumbs Up' 'Thumbs Down' 'Submit Downgrade']\n"
     ]
    }
   ],
   "source": [
    "unique_pages = time_event['page'].unique()\n",
    "print(unique_pages)"
   ]
  },
  {
   "cell_type": "code",
   "execution_count": 98,
   "metadata": {},
   "outputs": [],
   "source": [
    "\n",
    "def plot_events(events_in_time, marks):\n",
    "    \"\"\"\n",
    "    Plots events in a time axis. Each event type has its own marker.\n",
    "    \n",
    "    Args:\n",
    "        events_in_time (pandas.DataFrame): Data frame with the data to be plotted\n",
    "        marks (list): List of various markers to be iteratively used\n",
    "    \n",
    "    \"\"\"\n",
    "    fig, ax = plt.subplots()\n",
    "    fig.set_size_inches((16, 12))\n",
    "\n",
    "    unique_pages = events_in_time['page'].unique()\n",
    "    j = 0\n",
    "    for page in unique_pages:\n",
    "        records = events_in_time[events_in_time.page==page]\n",
    "        mark_size = np.ones(len(records))*80\n",
    "        ax.scatter(records.ts, records.page_label, s=mark_size, marker=marks[j], label=page)\n",
    "        j=j+1\n",
    "\n",
    "    ax.set_ylabel('Page Index', fontsize=18)\n",
    "    ax.set_xlabel('Timestamp', fontsize=18)\n",
    "    ax.set_title('Event Log', fontsize=18)\n",
    "    plt.legend()"
   ]
  },
  {
   "cell_type": "code",
   "execution_count": 24,
   "metadata": {},
   "outputs": [
    {
     "data": {
      "image/png": "[encoded data removed]",
      "text/plain": [
       "<matplotlib.figure.Figure at 0x7f2e6edeca20>"
      ]
     },
     "metadata": {
      "needs_background": "light"
     },
     "output_type": "display_data"
    }
   ],
   "source": [
    "marks = ['x', 2, '1', '2', '*', 'o', 'd', '1', '2', '*', '3', '4', '8', '*', 's', 2, 5, 4, 11, 8, 9, '|']\n",
    "# Creatinb a story line of events\n",
    "plot_events(time_event, marks)"
   ]
  },
  {
   "cell_type": "code",
   "execution_count": 99,
   "metadata": {},
   "outputs": [
    {
     "name": "stdout",
     "output_type": "stream",
     "text": [
      "2018-10-01:000157\n",
      "2018-12-03:011116\n"
     ]
    }
   ],
   "source": [
    "# Getting timestamp range (date of first record, date of last record).\n",
    "# This could provide additional insight/justification for some of the user activity\n",
    "# Because it could get mapped against seasons.\n",
    "max_timestamp = user_log.agg({\"ts\": \"max\"}).collect()[0]\n",
    "max_timestamp = max_timestamp.asDict()['max(ts)']\n",
    "min_timestamp = user_log.agg({\"ts\": \"min\"}).collect()[0]\n",
    "min_timestamp = min_timestamp.asDict()['min(ts)']\n",
    "earliest_date = _get_date(min_timestamp / 1000.0)\n",
    "oldest_date = _get_date(max_timestamp / 1000.0)\n",
    "print(earliest_date)\n",
    "print(oldest_date)"
   ]
  },
  {
   "cell_type": "code",
   "execution_count": 100,
   "metadata": {},
   "outputs": [],
   "source": [
    "# Categorical features/events are transformed into binary columns\n",
    "\n",
    "# Looking at a slice for the user 10004, we observed that the 'Downgrade' page is visited before actually downgrading the subscrition.\n",
    "# This may indicate that the user considered downgrade, but later decided to continue the paid subscription.\n",
    "# In view of this, visiting the 'Downgrade' page will be captured as a feature.\n",
    "\n",
    "like_flagger = udf(lambda x: 1 if x == 'Thumbs Up' else 0, IntegerType())\n",
    "dislike_flagger = udf(lambda x: 1 if x == 'Thumbs Down' else 0, IntegerType())\n",
    "downgrade_flagger = udf(lambda x: 1 if x == 'Downgrade' else 0, IntegerType())\n",
    "nextsong_flagger = udf(lambda x: 1 if x == 'NextSong' else 0, IntegerType())\n",
    "\n",
    "# Creatning hote one encoding for likes, disikes, downgrades and next\n",
    "user_log = user_log.withColumn(\"likes\", like_flagger(user_log.page)).\\\n",
    "           withColumn(\"dislikes\", dislike_flagger(user_log.page)).\\\n",
    "           withColumn(\"downgrades\", downgrade_flagger(user_log.page)).\\\n",
    "           withColumn(\"next\", nextsong_flagger(user_log.page))"
   ]
  },
  {
   "cell_type": "code",
   "execution_count": 101,
   "metadata": {},
   "outputs": [
    {
     "data": {
      "text/plain": [
       "Row(auth='Logged In', itemInSession=0, length=None, level='free', page='Home', song=None, ts=1538504716000, userId=85, churn=0, pay_or_free=0, churner=1, payer=1, page_label=2.0, date='2018-10-02:182516', likes=0, dislikes=0, downgrades=0, next=0)"
      ]
     },
     "execution_count": 101,
     "metadata": {},
     "output_type": "execute_result"
    }
   ],
   "source": [
    "user_log.head()"
   ]
  },
  {
   "cell_type": "markdown",
   "metadata": {},
   "source": [
    "# Feature Engineering\n"
   ]
  },
  {
   "cell_type": "code",
   "execution_count": 102,
   "metadata": {},
   "outputs": [],
   "source": [
    "# Here, pyspark.sql.window.Window is use to create two temporal sliding windows of 7 and 14 days respectively.\n",
    "# This window allows to compute 'cumulative activity'. The hypothesis is that whatever leads a user to downgrade or cancel\n",
    "# a subscribtion would be an accumulation of events that happen recently. In general, all features measure the user\n",
    "# engagement with the platform. If engagement reduces on a 7 or 14 day window, the user could decide to drop the subscription.\n",
    "\n",
    "days = lambda i: int(i * 86400*1000)\n",
    "window_spec_7 = Window.partitionBy(\"userId\").orderBy(func.col(\"ts\").cast('long')).rangeBetween(-days(7), 0)\n",
    "window_spec_14 = Window.partitionBy(\"userId\").orderBy(func.col(\"ts\").cast('long')).rangeBetween(-days(14), 0)"
   ]
  },
  {
   "cell_type": "code",
   "execution_count": 103,
   "metadata": {},
   "outputs": [
    {
     "data": {
      "text/plain": [
       "DataFrame[userId: int, acu_dislikes_7: bigint, acu_downgrade_7: bigint, acu_next_7: bigint, acu_dislikes_14: bigint, acu_downgrade_14: bigint, acu_next_14: bigint, churner: int]"
      ]
     },
     "execution_count": 103,
     "metadata": {},
     "output_type": "execute_result"
    }
   ],
   "source": [
    "# Cuumulative events are grouped by likes, dislikes, visits to downgrade/cancel subscription pages.\n",
    "# All of these are considered potential indicators that churn will happen or is about to happen.\n",
    "user_log_for_ml = user_log.\\\n",
    "                  withColumn(\"acu_dislikes_7\", func.sum(\"dislikes\").over(window_spec_7)).\\\n",
    "                  withColumn(\"acu_downgrade_7\", func.sum(\"downgrades\").over(window_spec_7)).\\\n",
    "                  withColumn(\"acu_next_7\", func.sum(\"next\").over(window_spec_7)).\\\n",
    "                  withColumn(\"acu_dislikes_14\", func.sum(\"dislikes\").over(window_spec_14)).\\\n",
    "                  withColumn(\"acu_downgrade_14\", func.sum(\"downgrades\").over(window_spec_14)).\\\n",
    "                  withColumn(\"acu_next_14\", func.sum(\"next\").over(window_spec_14)).\\\n",
    "                  select([\"userId\", \"acu_dislikes_7\", \"acu_downgrade_7\", \"acu_next_7\", \\\n",
    "                          \"acu_dislikes_14\", \"acu_downgrade_14\", \"acu_next_14\", \"churner\"])\n",
    "\n",
    "user_log_for_ml.persist()"
   ]
  },
  {
   "cell_type": "code",
   "execution_count": 104,
   "metadata": {},
   "outputs": [],
   "source": [
    "# Ensuring both classes are represented equally (avoid class inbalance). Two separate frames are created, one for churners\n",
    "# and one for non churners. Then we fill up a combined frame that has the same number of churners as non churners.\n",
    "user_log_for_ml_churners = user_log_for_ml.filter(user_log.churn == 1)\n",
    "churner_count = user_log_for_ml_churners.count()\n",
    "\n",
    "user_log_for_ml_nonchurners = user_log_for_ml.filter(user_log.churner == 0)\n",
    "nonchurner_count = user_log_for_ml_nonchurners.count()\n",
    "\n",
    "# This line combines the full set of churners with a set of non-churners of the same size. The non-churners are randomly\n",
    "# sampled from the full set of non-churners. The sample size is determined by taking the ratio of total number of churners\n",
    "# over the non-churners. The end goal is to have both classes equally represented.\n",
    "user_log_for_ml = user_log_for_ml_churners.union(user_log_for_ml_nonchurners.sample(churner_count/nonchurner_count))"
   ]
  },
  {
   "cell_type": "code",
   "execution_count": 105,
   "metadata": {},
   "outputs": [
    {
     "data": {
      "text/plain": [
       "76"
      ]
     },
     "execution_count": 105,
     "metadata": {},
     "output_type": "execute_result"
    }
   ],
   "source": [
    "user_log_for_ml_churners.select('userId').drop_duplicates().count()"
   ]
  },
  {
   "cell_type": "code",
   "execution_count": 106,
   "metadata": {},
   "outputs": [
    {
     "data": {
      "text/plain": [
       "89"
      ]
     },
     "execution_count": 106,
     "metadata": {},
     "output_type": "execute_result"
    }
   ],
   "source": [
    "user_log_for_ml_nonchurners.select('userId').drop_duplicates().count()"
   ]
  },
  {
   "cell_type": "code",
   "execution_count": 107,
   "metadata": {},
   "outputs": [],
   "source": [
    "# The activity distribution compares the statistics of the features for both churners and non churners\n",
    "activity_distribution = user_log_for_ml.groupBy(\"churner\").\\\n",
    "                        avg(\"acu_downgrade_7\",\n",
    "                            \"acu_downgrade_14\",\n",
    "                            \"acu_next_7\",\n",
    "                            \"acu_next_14\",\n",
    "                           \"acu_dislikes_7\",\n",
    "                           \"acu_dislikes_14\")"
   ]
  },
  {
   "cell_type": "code",
   "execution_count": 108,
   "metadata": {},
   "outputs": [
    {
     "name": "stdout",
     "output_type": "stream",
     "text": [
      "+-------+--------------------+---------------------+------------------+-----------------+-------------------+--------------------+\n",
      "|churner|avg(acu_downgrade_7)|avg(acu_downgrade_14)|   avg(acu_next_7)| avg(acu_next_14)|avg(acu_dislikes_7)|avg(acu_dislikes_14)|\n",
      "+-------+--------------------+---------------------+------------------+-----------------+-------------------+--------------------+\n",
      "|      1|   4.797979797979798|    6.959595959595959|356.55555555555554|561.8787878787879|  4.171717171717172|   6.626262626262626|\n",
      "|      0|  2.7745098039215685|   3.7450980392156863| 255.7450980392157|385.8921568627451| 2.3137254901960786|  3.3823529411764706|\n",
      "+-------+--------------------+---------------------+------------------+-----------------+-------------------+--------------------+\n",
      "\n"
     ]
    }
   ],
   "source": [
    "# Difference on the statistics between churners and non churners demonstrates that these features should work. \n",
    "# It would be possible to distinguish between the 2 classes with these features\n",
    "activity_distribution.show()"
   ]
  },
  {
   "cell_type": "code",
   "execution_count": 109,
   "metadata": {},
   "outputs": [],
   "source": [
    "# Creating the feature vectors. Twwo sets are created. Set A and Set B.\n",
    "feat_assembler_a = VectorAssembler(inputCols=[\"acu_downgrade_7\"], outputCol=\"features_a\", handleInvalid='skip')\n",
    "feat_assembler_b = VectorAssembler(\n",
    "    inputCols=[\"acu_downgrade_7\", \"acu_downgrade_14\",  \"acu_next_7\", \"acu_next_14\", \"acu_dislikes_7\", \"acu_dislikes_14\"],\n",
    "    outputCol=\"features_b\")\n",
    "# Accumulated visits to Dowgrade Page over 7 day windows\n",
    "user_log_for_ml = feat_assembler_a.transform(user_log_for_ml)\n",
    "# Accumulated visits to downgrade, nextsong, tumbup, thumbdown over both 7 and 14 day windows\n",
    "user_log_for_ml = feat_assembler_b.transform(user_log_for_ml)"
   ]
  },
  {
   "cell_type": "code",
   "execution_count": 110,
   "metadata": {},
   "outputs": [],
   "source": [
    "# Applying MinMax Scaling to features_a\n",
    "scaler_a = MinMaxScaler(inputCol=\"features_a\", outputCol=\"nrm_features_a\")\n",
    "user_log_for_ml = scaler_a.fit(user_log_for_ml).transform(user_log_for_ml)"
   ]
  },
  {
   "cell_type": "code",
   "execution_count": 111,
   "metadata": {},
   "outputs": [],
   "source": [
    "# Applying StandardScaler to features_b\n",
    "scaler_b = StandardScaler(inputCol=\"features_b\", outputCol=\"nrm_features_b\")\n",
    "user_log_for_ml = scaler_b.fit(user_log_for_ml).transform(user_log_for_ml)\n"
   ]
  },
  {
   "cell_type": "markdown",
   "metadata": {},
   "source": [
    "# Modeling\n",
    "Spliting the full dataset into train, test, and validation sets. Testing out several machine learning algorithms. Tunning model parameters and evaluating and comparing the accuracy of the various models. The best performing model is tested with validation data as the final result."
   ]
  },
  {
   "cell_type": "code",
   "execution_count": 117,
   "metadata": {},
   "outputs": [],
   "source": [
    "# Helps with always getting the sample samples when random samplin occurs\n",
    "# Reference: https://medium.com/udemy-engineering/pyspark-under-the-hood-randomsplit-and-sample-inconsistencies-examined-7c6ec62644bc\n",
    "user_log_for_ml.persist(pyspark.StorageLevel.MEMORY_AND_DISK)\n",
    "# Splitting Data in two groups, larger groups is used for training\n",
    "train_dat, test_val_dat = user_log_for_ml.randomSplit([0.75, 0.25], seed=7)\n",
    "# Smaller group is further split in two, test and validation, both of the same size\n",
    "test_dat, val_dat = test_val_dat.randomSplit([0.5, 0.5], seed=7)"
   ]
  },
  {
   "cell_type": "code",
   "execution_count": 119,
   "metadata": {},
   "outputs": [
    {
     "data": {
      "text/plain": [
       "DataFrame[userId: int, acu_dislikes_7: bigint, acu_downgrade_7: bigint, acu_next_7: bigint, acu_dislikes_14: bigint, acu_downgrade_14: bigint, acu_next_14: bigint, churner: int, features_a: vector, features_b: vector, nrm_features_a: vector, nrm_features_b: vector]"
      ]
     },
     "execution_count": 119,
     "metadata": {},
     "output_type": "execute_result"
    }
   ],
   "source": [
    "# Speed things up a bit\n",
    "train_dat.persist(pyspark.StorageLevel.MEMORY_AND_DISK)\n",
    "test_dat.persist(pyspark.StorageLevel.MEMORY_AND_DISK)\n",
    "val_dat.persist(pyspark.StorageLevel.MEMORY_AND_DISK)"
   ]
  },
  {
   "cell_type": "code",
   "execution_count": null,
   "metadata": {},
   "outputs": [],
   "source": [
    "# Verifying counts on each of the groups\n",
    "print(train_dat.count())\n",
    "print(test_dat.count())\n",
    "print(val_dat.count())"
   ]
  },
  {
   "cell_type": "code",
   "execution_count": 40,
   "metadata": {},
   "outputs": [],
   "source": [
    "def tonumpy(df, column_name):\n",
    "    \"\"\"\n",
    "    Pulls a column out of a pyspark data frame, and returns it as a numpy vector.\n",
    "    Speed things up for small calculations.\n",
    "    \n",
    "    Args:\n",
    "       df (pyspark.DataFrame): Data Frame to be proccesed\n",
    "    \"\"\"\n",
    "    return np.array(df.select(column_name).rdd.flatMap(lambda x: x).collect())"
   ]
  },
  {
   "cell_type": "code",
   "execution_count": 41,
   "metadata": {},
   "outputs": [],
   "source": [
    "# Structures will be used to store results on a more efficient object\n",
    "test_results_feat_a = {'truth_labels': [], 'log_reg_labels': [], 'rnd_forest_labels': [], 'dec_tree_labels': []}\n",
    "test_results_feat_b = {'truth_labels': [], 'log_reg_labels': [], 'rnd_forest_labels': [], 'dec_tree_labels': []}"
   ]
  },
  {
   "cell_type": "code",
   "execution_count": 43,
   "metadata": {},
   "outputs": [],
   "source": [
    "# Getting truth labels for test and validation labels\n",
    "test_truth = tonumpy(test_dat, 'churner')\n",
    "val_truth = tonumpy(val_data, 'churner')"
   ]
  },
  {
   "cell_type": "code",
   "execution_count": 43,
   "metadata": {},
   "outputs": [],
   "source": [
    "# Training Logistic Regression on nrm_features_a and passing test_dat for inference\n",
    "log_reg_obj_a = LogisticRegression(featuresCol=\"nrm_features_a\", labelCol=\"churner\", predictionCol='logr_pred_a')\n",
    "log_reg_model_a = log_reg_obj_a.fit(train_dat)\n",
    "results= log_reg_model_a.transform(test_dat)"
   ]
  },
  {
   "cell_type": "code",
   "execution_count": 44,
   "metadata": {},
   "outputs": [
    {
     "name": "stdout",
     "output_type": "stream",
     "text": [
      "Accuracy for LogisticRegression with nrm_features_a 0.6363636363636364\n",
      "\n",
      "Classification Report for LogisticRegression with nrm_features_a\n",
      "             precision    recall  f1-score   support\n",
      "\n",
      "          0       0.75      0.50      0.60         6\n",
      "          1       0.57      0.80      0.67         5\n",
      "\n",
      "avg / total       0.67      0.64      0.63        11\n",
      "\n"
     ]
    }
   ],
   "source": [
    "# Computing performance metrics\n",
    "test_results_feat_a['truth_labels'] = test_truth\n",
    "test_results_feat_a['log_reg_labels'] = tonumpy(results, 'logr_pred_a')\n",
    "\n",
    "accuracy = sum(test_results_feat_a['truth_labels'] == test_results_feat_a['log_reg_labels'])/len(test_results_feat_a['truth_labels'])\n",
    "print(\"Accuracy for LogisticRegression with nrm_features_a {}\".format(accuracy))\n",
    "print()\n",
    "print(\"Classification Report for LogisticRegression with nrm_features_a\")\n",
    "print(classification_report(test_results_feat_a['truth_labels'], test_results_feat_a['log_reg_labels']))"
   ]
  },
  {
   "cell_type": "code",
   "execution_count": 45,
   "metadata": {},
   "outputs": [],
   "source": [
    "# Training Logistic Regression on nrm_features_b and passing test_dat for inference\n",
    "log_reg_obj_b = LogisticRegression(featuresCol=\"nrm_features_b\", labelCol=\"churner\", predictionCol='logr_pred_b')\n",
    "log_reg_model_b = log_reg_obj_b.fit(train_dat)\n",
    "results= log_reg_model_b.transform(test_dat)"
   ]
  },
  {
   "cell_type": "code",
   "execution_count": 46,
   "metadata": {},
   "outputs": [
    {
     "name": "stdout",
     "output_type": "stream",
     "text": [
      "Accuracy for LogisticRegression with nrm_features_b 0.5454545454545454\n",
      "\n",
      "Classification Report for LogisticRegression with nrm_features_b\n",
      "             precision    recall  f1-score   support\n",
      "\n",
      "          0       0.57      0.67      0.62         6\n",
      "          1       0.50      0.40      0.44         5\n",
      "\n",
      "avg / total       0.54      0.55      0.54        11\n",
      "\n"
     ]
    }
   ],
   "source": [
    "# Computing performance metrics\n",
    "test_results_feat_b['truth_labels'] = test_truth\n",
    "test_results_feat_b['log_reg_labels']= tonumpy(results, 'logr_pred_b')\n",
    "\n",
    "accuracy = sum(test_results_feat_b['truth_labels'] == test_results_feat_b['log_reg_labels'])/len(test_results_feat_b['truth_labels'])\n",
    "print(\"Accuracy for LogisticRegression with nrm_features_b {}\".format(accuracy))\n",
    "print()\n",
    "print(\"Classification Report for LogisticRegression with nrm_features_b\")\n",
    "print(classification_report(test_results_feat_b['truth_labels'], test_results_feat_b['log_reg_labels']))"
   ]
  },
  {
   "cell_type": "code",
   "execution_count": 45,
   "metadata": {},
   "outputs": [],
   "source": [
    "# Training Random Forest Classifier on nrm_features_a\n",
    "rand_for_obj_a = RandomForestClassifier(featuresCol=\"nrm_features_a\", labelCol=\"churner\", predictionCol='rand_for_pred_a')\n",
    "rand_for_model_a = rand_for_obj_a.fit(train_dat)\n",
    "results = rand_for_model_a.transform(test_dat)"
   ]
  },
  {
   "cell_type": "code",
   "execution_count": 46,
   "metadata": {},
   "outputs": [
    {
     "name": "stdout",
     "output_type": "stream",
     "text": [
      "Accuracy for RandomForest with nrm_features_a 0.5454545454545454\n",
      "\n",
      "Classification Report for RandomForest with nrm_features_a\n",
      "             precision    recall  f1-score   support\n",
      "\n",
      "          0       0.67      0.33      0.44         6\n",
      "          1       0.50      0.80      0.62         5\n",
      "\n",
      "avg / total       0.59      0.55      0.52        11\n",
      "\n"
     ]
    }
   ],
   "source": [
    "# Computing performance metrics\n",
    "test_results_feat_a['truth_labels'] = test_truth\n",
    "test_results_feat_a['rnd_forest_labels'] = tonumpy(results, 'rand_for_pred_a')\n",
    "\n",
    "accuracy = sum(test_results_feat_a['truth_labels'] == test_results_feat_a['rnd_forest_labels'])/len(test_results_feat_a['truth_labels'])\n",
    "print(\"Accuracy for RandomForest with nrm_features_a {}\".format(accuracy))\n",
    "print()\n",
    "print(\"Classification Report for RandomForest with nrm_features_a\")\n",
    "print(classification_report(test_results_feat_a['truth_labels'], test_results_feat_a['rnd_forest_labels']))"
   ]
  },
  {
   "cell_type": "code",
   "execution_count": 48,
   "metadata": {},
   "outputs": [],
   "source": [
    "# Training Random Forest Classifier on nrm_features_b\n",
    "rand_for_obj_b = RandomForestClassifier(featuresCol=\"nrm_features_b\", labelCol=\"churner\", predictionCol='rand_for_pred_b')\n",
    "rand_for_model_b = rand_for_obj_b.fit(train_dat)\n",
    "results = rand_for_model_b.transform(test_dat)"
   ]
  },
  {
   "cell_type": "code",
   "execution_count": 49,
   "metadata": {},
   "outputs": [
    {
     "name": "stdout",
     "output_type": "stream",
     "text": [
      "Accuracy for RandomForest with nrm_features_b 0.45454545454545453\n",
      "\n",
      "Classification Report for RandomForest with nrm_features_b\n",
      "             precision    recall  f1-score   support\n",
      "\n",
      "          0       0.50      0.33      0.40         6\n",
      "          1       0.43      0.60      0.50         5\n",
      "\n",
      "avg / total       0.47      0.45      0.45        11\n",
      "\n"
     ]
    }
   ],
   "source": [
    "# Computing performance metrics\n",
    "test_results_feat_b['truth_labels'] = test_truth\n",
    "test_results_feat_b['rnd_forest_labels'] = tonumpy(results, 'rand_for_pred_b')\n",
    "\n",
    "accuracy = sum(test_results_feat_b['truth_labels'] == test_results_feat_b['rnd_forest_labels'])/len(test_results_feat_b['truth_labels'])\n",
    "print(\"Accuracy for RandomForest with nrm_features_b {}\".format(accuracy))\n",
    "print()\n",
    "print(\"Classification Report for RandomForest with nrm_features_b\")\n",
    "print(classification_report(test_results_feat_b['truth_labels'], test_results_feat_b['rnd_forest_labels']))"
   ]
  },
  {
   "cell_type": "code",
   "execution_count": 50,
   "metadata": {},
   "outputs": [],
   "source": [
    "# Training Decision Tree Classifier on nrm_features_a\n",
    "dec_tree_obj_a = DecisionTreeClassifier(featuresCol=\"nrm_features_a\", labelCol=\"churner\", predictionCol='dec_tree_pred_a')\n",
    "dec_tree_model_a = dec_tree_obj_a.fit(train_dat)\n",
    "results = dec_tree_model_a.transform(test_dat)"
   ]
  },
  {
   "cell_type": "code",
   "execution_count": 51,
   "metadata": {},
   "outputs": [
    {
     "name": "stdout",
     "output_type": "stream",
     "text": [
      "Accuracy for RandomForest with nrm_features_a 0.5454545454545454\n",
      "\n",
      "Classification Report for RandomForest with nrm_features_a\n",
      "             precision    recall  f1-score   support\n",
      "\n",
      "          0       0.67      0.33      0.44         6\n",
      "          1       0.50      0.80      0.62         5\n",
      "\n",
      "avg / total       0.59      0.55      0.52        11\n",
      "\n"
     ]
    }
   ],
   "source": [
    "# Computing performance metrics\n",
    "test_results_feat_a['truth_labels'] = test_truth\n",
    "test_results_feat_a['dec_tree_labels'] = tonumpy(results, 'dec_tree_pred_a')\n",
    "\n",
    "accuracy = sum(test_results_feat_a['truth_labels'] == test_results_feat_a['dec_tree_labels'])/len(test_results_feat_a['truth_labels'])\n",
    "print(\"Accuracy for RandomForest with nrm_features_a {}\".format(accuracy))\n",
    "print()\n",
    "print(\"Classification Report for RandomForest with nrm_features_a\")\n",
    "print(classification_report(test_results_feat_a['truth_labels'], test_results_feat_a['dec_tree_labels']))"
   ]
  },
  {
   "cell_type": "code",
   "execution_count": 52,
   "metadata": {},
   "outputs": [],
   "source": [
    "# Training Decision Tree Classifier on nrm_features_b\n",
    "dec_tree_obj_b = DecisionTreeClassifier(featuresCol=\"nrm_features_b\", labelCol=\"churner\", predictionCol='dec_tree_pred_b')\n",
    "dec_tree_model_b = dec_tree_obj_b.fit(train_dat)\n",
    "results= dec_tree_model_b.transform(test_dat)"
   ]
  },
  {
   "cell_type": "code",
   "execution_count": 53,
   "metadata": {},
   "outputs": [
    {
     "name": "stdout",
     "output_type": "stream",
     "text": [
      "Accuracy for RandomForest with nrm_features_b 0.6363636363636364\n",
      "Classification Report for RandomForest with nrm_features_b\n",
      "             precision    recall  f1-score   support\n",
      "\n",
      "          0       0.67      0.67      0.67         6\n",
      "          1       0.60      0.60      0.60         5\n",
      "\n",
      "avg / total       0.64      0.64      0.64        11\n",
      "\n"
     ]
    }
   ],
   "source": [
    "# Computing performance metrics\n",
    "test_results_feat_b['truth_labels'] = test_truth\n",
    "test_results_feat_b['dec_tree_labels'] = tonumpy(results, 'dec_tree_pred_b')\n",
    "\n",
    "accuracy = sum(test_results_feat_b['truth_labels'] == test_results_feat_b['dec_tree_labels'])/len(test_results_feat_b['truth_labels'])\n",
    "print(\"Accuracy for RandomForest with nrm_features_b {}\".format(accuracy))\n",
    "\n",
    "print(\"Classification Report for RandomForest with nrm_features_b\")\n",
    "print(classification_report(test_results_feat_b['truth_labels'], test_results_feat_b['dec_tree_labels']))\n",
    "\n"
   ]
  },
  {
   "cell_type": "code",
   "execution_count": 54,
   "metadata": {},
   "outputs": [],
   "source": [
    "# Creating a new feature set with accumulation of dowgrade and dislike visits over 7 day windows\n",
    "feat_assembler_c = VectorAssembler(inputCols=[\"acu_downgrade_7\", \"acu_dislikes_7\"], outputCol=\"features_c\", handleInvalid='skip')\n",
    "user_log_for_ml = feat_assembler_c.transform(user_log_for_ml)\n"
   ]
  },
  {
   "cell_type": "code",
   "execution_count": 55,
   "metadata": {},
   "outputs": [],
   "source": [
    "# Applying MinMaxScaler to features_c\n",
    "scaler_c = MinMaxScaler(inputCol=\"features_c\", outputCol=\"nrm_features_c\")\n",
    "\n",
    "# Features are now columns of the user_log_for_ml\n",
    "user_log_for_ml = scaler_c.fit(user_log_for_ml).transform(user_log_for_ml)"
   ]
  },
  {
   "cell_type": "code",
   "execution_count": 56,
   "metadata": {},
   "outputs": [],
   "source": [
    "# Creating a test, train, validation split on the data, but this time it includes nrm_features_c\n",
    "\n",
    "train_dat, test_val_dat = user_log_for_ml.randomSplit([0.75, 0.25], seed=7)\n",
    "test_dat, val_data = test_val_dat.randomSplit([0.5, 0.5], seed=7)"
   ]
  },
  {
   "cell_type": "code",
   "execution_count": 57,
   "metadata": {},
   "outputs": [],
   "source": [
    "# Training Decision Tree Classifier with nrm_features_c, feeding it test_Dat\n",
    "dec_tree_obj_c = DecisionTreeClassifier(featuresCol=\"nrm_features_c\", labelCol=\"churner\", predictionCol='dec_tree_pred_c')\n",
    "dec_tree_model_c = dec_tree_obj_c.fit(train_dat)\n",
    "results = dec_tree_model_c.transform(test_dat)"
   ]
  },
  {
   "cell_type": "code",
   "execution_count": 59,
   "metadata": {},
   "outputs": [
    {
     "name": "stdout",
     "output_type": "stream",
     "text": [
      "Accuracy for RandomForest with nrm_features_c 0.6363636363636364\n",
      "Classification Report for RandomForest with nrm_features_c\n",
      "             precision    recall  f1-score   support\n",
      "\n",
      "          0       0.67      0.67      0.67         6\n",
      "          1       0.60      0.60      0.60         5\n",
      "\n",
      "avg / total       0.64      0.64      0.64        11\n",
      "\n"
     ]
    }
   ],
   "source": [
    "# Computing performance metrics\n",
    "test_truth = tonumpy(test_dat, 'churner')\n",
    "test_results_feat_c = {}\n",
    "test_results_feat_c['truth_labels'] = test_truth\n",
    "test_results_feat_c['dec_tree_labels'] = tonumpy(results, 'dec_tree_pred_c')\n",
    "\n",
    "accuracy = sum(test_results_feat_c['truth_labels'] == test_results_feat_c['dec_tree_labels'])/len(test_results_feat_c['truth_labels'])\n",
    "print(\"Accuracy for RandomForest with nrm_features_c {}\".format(accuracy))\n",
    "\n",
    "print(\"Classification Report for RandomForest with nrm_features_c\")\n",
    "print(classification_report(test_results_feat_c['truth_labels'], test_results_feat_c['dec_tree_labels']))"
   ]
  },
  {
   "cell_type": "code",
   "execution_count": 60,
   "metadata": {},
   "outputs": [],
   "source": [
    "# Creating a new feature set with accumulation of dowgrade and dislike visits over 7 day windows, this time, the StandardScaler will be used\n",
    "feat_assembler_e = VectorAssembler(inputCols=[\"acu_downgrade_7\", \"acu_dislikes_7\"], outputCol=\"features_e\", handleInvalid='skip')\n",
    "user_log_for_ml = feat_assembler_e.transform(user_log_for_ml)"
   ]
  },
  {
   "cell_type": "code",
   "execution_count": 61,
   "metadata": {},
   "outputs": [],
   "source": [
    "# This time around, we use StandardScaler instead of MinMax Scaler\n",
    "scaler_e = StandardScaler(inputCol=\"features_e\", outputCol=\"nrm_features_e\")\n",
    "user_log_for_ml = scaler_e.fit(user_log_for_ml).transform(user_log_for_ml)"
   ]
  },
  {
   "cell_type": "code",
   "execution_count": 62,
   "metadata": {},
   "outputs": [],
   "source": [
    "# Creating a new data split, this time, DataFrame includes the nrm_features_e\n",
    "train_dat, test_val_dat = user_log_for_ml.randomSplit([0.75, 0.25], seed=7)\n",
    "test_dat, val_data = test_val_dat.randomSplit([0.5, 0.5], seed=7)"
   ]
  },
  {
   "cell_type": "code",
   "execution_count": 63,
   "metadata": {},
   "outputs": [],
   "source": [
    "# Training Decision Tree Classifier with nrm_features_e, feeding it test_dat\n",
    "dec_tree_obj_e = DecisionTreeClassifier(featuresCol=\"nrm_features_e\", labelCol=\"churner\", predictionCol='dec_tree_pred_e')\n",
    "dec_tree_model_e = dec_tree_obj_e.fit(train_dat)\n",
    "results = dec_tree_model_e.transform(test_dat)"
   ]
  },
  {
   "cell_type": "code",
   "execution_count": 64,
   "metadata": {},
   "outputs": [
    {
     "name": "stdout",
     "output_type": "stream",
     "text": [
      "Accuracy for RandomForest with nrm_features_e 0.6363636363636364\n",
      "Classification Report for RandomForest with nrm_features_e\n",
      "             precision    recall  f1-score   support\n",
      "\n",
      "          0       0.67      0.67      0.67         6\n",
      "          1       0.60      0.60      0.60         5\n",
      "\n",
      "avg / total       0.64      0.64      0.64        11\n",
      "\n"
     ]
    }
   ],
   "source": [
    "# Computing performance metrics\n",
    "test_truth = tonumpy(test_dat, 'churner')\n",
    "test_results_feat_e = {}\n",
    "test_results_feat_e['truth_labels'] = test_truth\n",
    "test_results_feat_e['dec_tree_labels'] = tonumpy(results, 'dec_tree_pred_e')\n",
    "\n",
    "accuracy = sum(test_results_feat_e['truth_labels'] == test_results_feat_e['dec_tree_labels'])/len(test_results_feat_e['truth_labels'])\n",
    "print(\"Accuracy for RandomForest with nrm_features_e {}\".format(accuracy))\n",
    "\n",
    "print(\"Classification Report for RandomForest with nrm_features_e\")\n",
    "print(classification_report(test_results_feat_e['truth_labels'], test_results_feat_e['dec_tree_labels']))"
   ]
  },
  {
   "cell_type": "code",
   "execution_count": 68,
   "metadata": {},
   "outputs": [],
   "source": [
    "# Training Logistic Regressionw ith nrm_features_e, feeding it test_dat\n",
    "log_reg_obj_e = LogisticRegression(featuresCol=\"nrm_features_e\", labelCol=\"churner\", predictionCol='logr_pred_e')\n",
    "log_reg_model_e = log_reg_obj_e.fit(train_dat)\n",
    "results= log_reg_model_e.transform(test_dat)"
   ]
  },
  {
   "cell_type": "code",
   "execution_count": 69,
   "metadata": {},
   "outputs": [
    {
     "name": "stdout",
     "output_type": "stream",
     "text": [
      "Accuracy for LogisticRegression with nrm_features_e 0.6363636363636364\n",
      "\n",
      "Classification Report for LogisticRegression with nrm_features_e\n",
      "             precision    recall  f1-score   support\n",
      "\n",
      "          0       0.75      0.50      0.60         6\n",
      "          1       0.57      0.80      0.67         5\n",
      "\n",
      "avg / total       0.67      0.64      0.63        11\n",
      "\n"
     ]
    }
   ],
   "source": [
    "# Computing performance metrics\n",
    "test_results_feat_e = {}\n",
    "test_results_feat_e['truth_labels'] = test_truth\n",
    "test_results_feat_e['log_reg_labels']= tonumpy(results, 'logr_pred_e')\n",
    "\n",
    "accuracy = sum(test_results_feat_e['truth_labels'] == test_results_feat_e['log_reg_labels'])/len(test_results_feat_e['truth_labels'])\n",
    "print(\"Accuracy for LogisticRegression with nrm_features_e {}\".format(accuracy))\n",
    "print()\n",
    "print(\"Classification Report for LogisticRegression with nrm_features_e\")\n",
    "print(classification_report(test_results_feat_e['truth_labels'], test_results_feat_e['log_reg_labels']))"
   ]
  },
  {
   "cell_type": "code",
   "execution_count": 70,
   "metadata": {},
   "outputs": [],
   "source": [
    "# Feeding the latest model with validation data, to check how it performs with it.\n",
    "val_results = log_reg_model_e.transform(val_data)"
   ]
  },
  {
   "cell_type": "code",
   "execution_count": 74,
   "metadata": {},
   "outputs": [],
   "source": [
    "# Pulling truth data numpy vector out of the val_data dataframe\n",
    "val_truth = tonumpy(val_data, 'churner')"
   ]
  },
  {
   "cell_type": "code",
   "execution_count": 75,
   "metadata": {},
   "outputs": [
    {
     "name": "stdout",
     "output_type": "stream",
     "text": [
      "Accuracy for LogisticRegression with nrm_features_e 0.6896551724137931\n",
      "\n",
      "Classification Report for LogisticRegression with nrm_features_e\n",
      "             precision    recall  f1-score   support\n",
      "\n",
      "          0       0.68      0.88      0.77        17\n",
      "          1       0.71      0.42      0.53        12\n",
      "\n",
      "avg / total       0.70      0.69      0.67        29\n",
      "\n"
     ]
    }
   ],
   "source": [
    "# Computing performance metrics\n",
    "val_results_feat_e = {}\n",
    "val_results_feat_e['truth_labels'] = val_truth\n",
    "val_results_feat_e['log_reg_labels'] = tonumpy(val_results, 'logr_pred_e')\n",
    "\n",
    "accuracy = sum(val_results_feat_e['truth_labels'] == val_results_feat_e['log_reg_labels'])/len(val_results_feat_e['truth_labels'])\n",
    "print(\"Accuracy for LogisticRegression with nrm_features_e {}\".format(accuracy))\n",
    "print()\n",
    "print(\"Classification Report for LogisticRegression with nrm_features_e\")\n",
    "print(classification_report(val_results_feat_e['truth_labels'], val_results_feat_e['log_reg_labels']))"
   ]
  },
  {
   "cell_type": "markdown",
   "metadata": {},
   "source": [
    "# Final Steps\n",
    "Please see report file included with the repository."
   ]
  },
  {
   "cell_type": "code",
   "execution_count": null,
   "metadata": {},
   "outputs": [],
   "source": []
  }
 ],
 "metadata": {
  "kernelspec": {
   "display_name": "Python 3",
   "language": "python",
   "name": "python3"
  },
  "language_info": {
   "codemirror_mode": {
    "name": "ipython",
    "version": 3
   },
   "file_extension": ".py",
   "mimetype": "text/x-python",
   "name": "python",
   "nbconvert_exporter": "python",
   "pygments_lexer": "ipython3",
   "version": "3.6.3"
  }
 },
 "nbformat": 4,
 "nbformat_minor": 2
}